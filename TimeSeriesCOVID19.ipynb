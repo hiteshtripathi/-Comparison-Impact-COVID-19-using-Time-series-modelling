{
 "cells": [
  {
   "cell_type": "markdown",
   "metadata": {},
   "source": [
    "# Comparing time series predictions of COVID-19 deaths"
   ]
  },
  {
   "cell_type": "markdown",
   "metadata": {},
   "source": [
    "![Comparison](my_code_graph.png)"
   ]
  },
  {
   "cell_type": "markdown",
   "metadata": {},
   "source": [
    "## Introduction\n",
    "We are going to focus on three learning objectives:\n",
    "\n",
    "Preprocessing time series data for various machine learning models\n",
    "Visualize time series data<br> \n",
    "Comparing the time series predictions of 4 machine learning models<br> \n",
    "By the end of this project, We will create time series analysis models in the python programming language to predict the daily deaths due to SARS-CoV-19, or COVID-19. \n",
    "Using the pandas data manipulation library you will download the COVID-19 daily deaths dataset which is provided by Johns Hopkins University on github, preprocess the dataset for the machine learning tasks and visualize the data. \n",
    "\n",
    "We will learn how to create and train the following models:<br> \n",
    "1) SARIMAX from statsmodels,<br>\n",
    "2) Prophet from Facebook,<br>\n",
    "3) neural networks from Keras and XGBOOST<br> \n",
    "Perform predictions using the trained models, and compare the accuracy of predictions statistically and visually. \n",
    "\n",
    "Then visualize data using the matplotlib library. We will learn the difference  between time series and independent data points, and how to extract features from a time series data set and then split the dataset into training and test datasets."
   ]
  },
  {
   "cell_type": "code",
   "execution_count": 3,
   "metadata": {},
   "outputs": [
    {
     "name": "stderr",
     "output_type": "stream",
     "text": [
      "Importing plotly failed. Interactive plots will not work.\n",
      "Using TensorFlow backend.\n",
      "/Users/hiteshtripathi/myenv/lib/python3.9/site-packages/tensorflow/python/framework/dtypes.py:519: FutureWarning: Passing (type, 1) or '1type' as a synonym of type is deprecated; in a future version of numpy, it will be understood as (type, (1,)) / '(1,)type'.\n",
      "  _np_qint8 = np.dtype([(\"qint8\", np.int8, 1)])\n",
      "/Users/hiteshtripathi/myenv/lib/python3.9/site-packages/tensorflow/python/framework/dtypes.py:520: FutureWarning: Passing (type, 1) or '1type' as a synonym of type is deprecated; in a future version of numpy, it will be understood as (type, (1,)) / '(1,)type'.\n",
      "  _np_quint8 = np.dtype([(\"quint8\", np.uint8, 1)])\n",
      "/Users/hiteshtripathi/myenv/lib/python3.9/site-packages/tensorflow/python/framework/dtypes.py:521: FutureWarning: Passing (type, 1) or '1type' as a synonym of type is deprecated; in a future version of numpy, it will be understood as (type, (1,)) / '(1,)type'.\n",
      "  _np_qint16 = np.dtype([(\"qint16\", np.int16, 1)])\n",
      "/Users/hiteshtripathi/myenv/lib/python3.9/site-packages/tensorflow/python/framework/dtypes.py:522: FutureWarning: Passing (type, 1) or '1type' as a synonym of type is deprecated; in a future version of numpy, it will be understood as (type, (1,)) / '(1,)type'.\n",
      "  _np_quint16 = np.dtype([(\"quint16\", np.uint16, 1)])\n",
      "/Users/hiteshtripathi/myenv/lib/python3.9/site-packages/tensorflow/python/framework/dtypes.py:523: FutureWarning: Passing (type, 1) or '1type' as a synonym of type is deprecated; in a future version of numpy, it will be understood as (type, (1,)) / '(1,)type'.\n",
      "  _np_qint32 = np.dtype([(\"qint32\", np.int32, 1)])\n",
      "/Users/hiteshtripathi/myenv/lib/python3.9/site-packages/tensorflow/python/framework/dtypes.py:528: FutureWarning: Passing (type, 1) or '1type' as a synonym of type is deprecated; in a future version of numpy, it will be understood as (type, (1,)) / '(1,)type'.\n",
      "  np_resource = np.dtype([(\"resource\", np.ubyte, 1)])\n",
      "<frozen importlib._bootstrap>:228: RuntimeWarning: compiletime version 3.6 of module 'tensorflow.python.framework.fast_tensor_util' does not match runtime version 3.9\n",
      "<frozen importlib._bootstrap>:228: RuntimeWarning: builtins.type size changed, may indicate binary incompatibility. Expected 880, got 864\n"
     ]
    }
   ],
   "source": [
    "import pmdarima as pm\n",
    "from statsmodels.tsa.seasonal import seasonal_decompose\n",
    "from sklearn.model_selection import TimeSeriesSplit\n",
    "import pandas as pd\n",
    "import numpy as np\n",
    "import datetime\n",
    "import requests\n",
    "import warnings\n",
    "\n",
    "import matplotlib.pyplot as plt\n",
    "import matplotlib\n",
    "import matplotlib.dates as mdates\n",
    "\n",
    "from xgboost import XGBRegressor\n",
    "from sklearn.ensemble import RandomForestRegressor\n",
    "from sklearn.metrics import mean_squared_error, mean_absolute_error\n",
    "from sklearn.preprocessing import OrdinalEncoder\n",
    "from sklearn.svm import SVR\n",
    "from sklearn.model_selection import train_test_split\n",
    "from statsmodels.tsa.statespace.sarimax import SARIMAX\n",
    "from statsmodels.tsa.arima_model import ARIMA\n",
    "from sklearn.preprocessing import StandardScaler\n",
    "from fbprophet import Prophet\n",
    "from fbprophet.plot import plot_plotly, add_changepoints_to_plot\n",
    "from keras.models import Sequential\n",
    "from keras.layers import Dense\n",
    "\n",
    "from keras.optimizers import Adam\n",
    "\n",
    "warnings.filterwarnings('ignore')"
   ]
  },
  {
   "cell_type": "markdown",
   "metadata": {},
   "source": [
    "# Task 1: Open the data and prepare the dataset data frame"
   ]
  },
  {
   "cell_type": "code",
   "execution_count": 5,
   "metadata": {},
   "outputs": [],
   "source": [
    "deaths_df = pd.read_csv('/Users/hiteshtripathi/Documents/DataScience/Coursera/Coursera_Projects/8_Timeseries Analysis/COVID TimeSeries/time_series_covid19_deaths_global.csv')"
   ]
  },
  {
   "cell_type": "markdown",
   "metadata": {},
   "source": [
    "First, get the data for the daily deaths in all countries in the report"
   ]
  },
  {
   "cell_type": "code",
   "execution_count": 6,
   "metadata": {},
   "outputs": [
    {
     "data": {
      "text/html": [
       "<div>\n",
       "<style scoped>\n",
       "    .dataframe tbody tr th:only-of-type {\n",
       "        vertical-align: middle;\n",
       "    }\n",
       "\n",
       "    .dataframe tbody tr th {\n",
       "        vertical-align: top;\n",
       "    }\n",
       "\n",
       "    .dataframe thead th {\n",
       "        text-align: right;\n",
       "    }\n",
       "</style>\n",
       "<table border=\"1\" class=\"dataframe\">\n",
       "  <thead>\n",
       "    <tr style=\"text-align: right;\">\n",
       "      <th></th>\n",
       "      <th>Province/State</th>\n",
       "      <th>Country/Region</th>\n",
       "      <th>Lat</th>\n",
       "      <th>Long</th>\n",
       "      <th>1/22/20</th>\n",
       "      <th>1/23/20</th>\n",
       "      <th>1/24/20</th>\n",
       "      <th>1/25/20</th>\n",
       "      <th>1/26/20</th>\n",
       "      <th>1/27/20</th>\n",
       "      <th>...</th>\n",
       "      <th>11/18/20</th>\n",
       "      <th>11/19/20</th>\n",
       "      <th>11/20/20</th>\n",
       "      <th>11/21/20</th>\n",
       "      <th>11/22/20</th>\n",
       "      <th>11/23/20</th>\n",
       "      <th>11/24/20</th>\n",
       "      <th>11/25/20</th>\n",
       "      <th>11/26/20</th>\n",
       "      <th>11/27/20</th>\n",
       "    </tr>\n",
       "  </thead>\n",
       "  <tbody>\n",
       "    <tr>\n",
       "      <th>0</th>\n",
       "      <td>NaN</td>\n",
       "      <td>Afghanistan</td>\n",
       "      <td>33.93911</td>\n",
       "      <td>67.709953</td>\n",
       "      <td>0</td>\n",
       "      <td>0</td>\n",
       "      <td>0</td>\n",
       "      <td>0</td>\n",
       "      <td>0</td>\n",
       "      <td>0</td>\n",
       "      <td>...</td>\n",
       "      <td>1645</td>\n",
       "      <td>1650</td>\n",
       "      <td>1661</td>\n",
       "      <td>1675</td>\n",
       "      <td>1687</td>\n",
       "      <td>1695</td>\n",
       "      <td>1712</td>\n",
       "      <td>1725</td>\n",
       "      <td>1737</td>\n",
       "      <td>1740</td>\n",
       "    </tr>\n",
       "    <tr>\n",
       "      <th>1</th>\n",
       "      <td>NaN</td>\n",
       "      <td>Albania</td>\n",
       "      <td>41.15330</td>\n",
       "      <td>20.168300</td>\n",
       "      <td>0</td>\n",
       "      <td>0</td>\n",
       "      <td>0</td>\n",
       "      <td>0</td>\n",
       "      <td>0</td>\n",
       "      <td>0</td>\n",
       "      <td>...</td>\n",
       "      <td>646</td>\n",
       "      <td>657</td>\n",
       "      <td>672</td>\n",
       "      <td>685</td>\n",
       "      <td>699</td>\n",
       "      <td>716</td>\n",
       "      <td>735</td>\n",
       "      <td>743</td>\n",
       "      <td>753</td>\n",
       "      <td>771</td>\n",
       "    </tr>\n",
       "    <tr>\n",
       "      <th>2</th>\n",
       "      <td>NaN</td>\n",
       "      <td>Algeria</td>\n",
       "      <td>28.03390</td>\n",
       "      <td>1.659600</td>\n",
       "      <td>0</td>\n",
       "      <td>0</td>\n",
       "      <td>0</td>\n",
       "      <td>0</td>\n",
       "      <td>0</td>\n",
       "      <td>0</td>\n",
       "      <td>...</td>\n",
       "      <td>2206</td>\n",
       "      <td>2224</td>\n",
       "      <td>2236</td>\n",
       "      <td>2255</td>\n",
       "      <td>2272</td>\n",
       "      <td>2294</td>\n",
       "      <td>2309</td>\n",
       "      <td>2329</td>\n",
       "      <td>2352</td>\n",
       "      <td>2372</td>\n",
       "    </tr>\n",
       "    <tr>\n",
       "      <th>3</th>\n",
       "      <td>NaN</td>\n",
       "      <td>Andorra</td>\n",
       "      <td>42.50630</td>\n",
       "      <td>1.521800</td>\n",
       "      <td>0</td>\n",
       "      <td>0</td>\n",
       "      <td>0</td>\n",
       "      <td>0</td>\n",
       "      <td>0</td>\n",
       "      <td>0</td>\n",
       "      <td>...</td>\n",
       "      <td>76</td>\n",
       "      <td>76</td>\n",
       "      <td>76</td>\n",
       "      <td>76</td>\n",
       "      <td>76</td>\n",
       "      <td>76</td>\n",
       "      <td>76</td>\n",
       "      <td>76</td>\n",
       "      <td>76</td>\n",
       "      <td>76</td>\n",
       "    </tr>\n",
       "    <tr>\n",
       "      <th>4</th>\n",
       "      <td>NaN</td>\n",
       "      <td>Angola</td>\n",
       "      <td>-11.20270</td>\n",
       "      <td>17.873900</td>\n",
       "      <td>0</td>\n",
       "      <td>0</td>\n",
       "      <td>0</td>\n",
       "      <td>0</td>\n",
       "      <td>0</td>\n",
       "      <td>0</td>\n",
       "      <td>...</td>\n",
       "      <td>332</td>\n",
       "      <td>333</td>\n",
       "      <td>334</td>\n",
       "      <td>336</td>\n",
       "      <td>337</td>\n",
       "      <td>337</td>\n",
       "      <td>338</td>\n",
       "      <td>340</td>\n",
       "      <td>341</td>\n",
       "      <td>342</td>\n",
       "    </tr>\n",
       "  </tbody>\n",
       "</table>\n",
       "<p>5 rows × 315 columns</p>\n",
       "</div>"
      ],
      "text/plain": [
       "  Province/State Country/Region       Lat       Long  1/22/20  1/23/20  \\\n",
       "0            NaN    Afghanistan  33.93911  67.709953        0        0   \n",
       "1            NaN        Albania  41.15330  20.168300        0        0   \n",
       "2            NaN        Algeria  28.03390   1.659600        0        0   \n",
       "3            NaN        Andorra  42.50630   1.521800        0        0   \n",
       "4            NaN         Angola -11.20270  17.873900        0        0   \n",
       "\n",
       "   1/24/20  1/25/20  1/26/20  1/27/20  ...  11/18/20  11/19/20  11/20/20  \\\n",
       "0        0        0        0        0  ...      1645      1650      1661   \n",
       "1        0        0        0        0  ...       646       657       672   \n",
       "2        0        0        0        0  ...      2206      2224      2236   \n",
       "3        0        0        0        0  ...        76        76        76   \n",
       "4        0        0        0        0  ...       332       333       334   \n",
       "\n",
       "   11/21/20  11/22/20  11/23/20  11/24/20  11/25/20  11/26/20  11/27/20  \n",
       "0      1675      1687      1695      1712      1725      1737      1740  \n",
       "1       685       699       716       735       743       753       771  \n",
       "2      2255      2272      2294      2309      2329      2352      2372  \n",
       "3        76        76        76        76        76        76        76  \n",
       "4       336       337       337       338       340       341       342  \n",
       "\n",
       "[5 rows x 315 columns]"
      ]
     },
     "execution_count": 6,
     "metadata": {},
     "output_type": "execute_result"
    }
   ],
   "source": [
    "deaths_df.head()"
   ]
  },
  {
   "cell_type": "code",
   "execution_count": 8,
   "metadata": {},
   "outputs": [
    {
     "data": {
      "text/html": [
       "<div>\n",
       "<style scoped>\n",
       "    .dataframe tbody tr th:only-of-type {\n",
       "        vertical-align: middle;\n",
       "    }\n",
       "\n",
       "    .dataframe tbody tr th {\n",
       "        vertical-align: top;\n",
       "    }\n",
       "\n",
       "    .dataframe thead th {\n",
       "        text-align: right;\n",
       "    }\n",
       "</style>\n",
       "<table border=\"1\" class=\"dataframe\">\n",
       "  <thead>\n",
       "    <tr style=\"text-align: right;\">\n",
       "      <th></th>\n",
       "      <th>1/22/20</th>\n",
       "      <th>1/23/20</th>\n",
       "      <th>1/24/20</th>\n",
       "      <th>1/25/20</th>\n",
       "      <th>1/26/20</th>\n",
       "      <th>1/27/20</th>\n",
       "      <th>1/28/20</th>\n",
       "      <th>1/29/20</th>\n",
       "      <th>1/30/20</th>\n",
       "      <th>1/31/20</th>\n",
       "      <th>...</th>\n",
       "      <th>11/18/20</th>\n",
       "      <th>11/19/20</th>\n",
       "      <th>11/20/20</th>\n",
       "      <th>11/21/20</th>\n",
       "      <th>11/22/20</th>\n",
       "      <th>11/23/20</th>\n",
       "      <th>11/24/20</th>\n",
       "      <th>11/25/20</th>\n",
       "      <th>11/26/20</th>\n",
       "      <th>11/27/20</th>\n",
       "    </tr>\n",
       "  </thead>\n",
       "  <tbody>\n",
       "    <tr>\n",
       "      <th>0</th>\n",
       "      <td>0</td>\n",
       "      <td>0</td>\n",
       "      <td>0</td>\n",
       "      <td>0</td>\n",
       "      <td>0</td>\n",
       "      <td>0</td>\n",
       "      <td>0</td>\n",
       "      <td>0</td>\n",
       "      <td>0</td>\n",
       "      <td>0</td>\n",
       "      <td>...</td>\n",
       "      <td>1645</td>\n",
       "      <td>1650</td>\n",
       "      <td>1661</td>\n",
       "      <td>1675</td>\n",
       "      <td>1687</td>\n",
       "      <td>1695</td>\n",
       "      <td>1712</td>\n",
       "      <td>1725</td>\n",
       "      <td>1737</td>\n",
       "      <td>1740</td>\n",
       "    </tr>\n",
       "    <tr>\n",
       "      <th>1</th>\n",
       "      <td>0</td>\n",
       "      <td>0</td>\n",
       "      <td>0</td>\n",
       "      <td>0</td>\n",
       "      <td>0</td>\n",
       "      <td>0</td>\n",
       "      <td>0</td>\n",
       "      <td>0</td>\n",
       "      <td>0</td>\n",
       "      <td>0</td>\n",
       "      <td>...</td>\n",
       "      <td>646</td>\n",
       "      <td>657</td>\n",
       "      <td>672</td>\n",
       "      <td>685</td>\n",
       "      <td>699</td>\n",
       "      <td>716</td>\n",
       "      <td>735</td>\n",
       "      <td>743</td>\n",
       "      <td>753</td>\n",
       "      <td>771</td>\n",
       "    </tr>\n",
       "    <tr>\n",
       "      <th>2</th>\n",
       "      <td>0</td>\n",
       "      <td>0</td>\n",
       "      <td>0</td>\n",
       "      <td>0</td>\n",
       "      <td>0</td>\n",
       "      <td>0</td>\n",
       "      <td>0</td>\n",
       "      <td>0</td>\n",
       "      <td>0</td>\n",
       "      <td>0</td>\n",
       "      <td>...</td>\n",
       "      <td>2206</td>\n",
       "      <td>2224</td>\n",
       "      <td>2236</td>\n",
       "      <td>2255</td>\n",
       "      <td>2272</td>\n",
       "      <td>2294</td>\n",
       "      <td>2309</td>\n",
       "      <td>2329</td>\n",
       "      <td>2352</td>\n",
       "      <td>2372</td>\n",
       "    </tr>\n",
       "    <tr>\n",
       "      <th>3</th>\n",
       "      <td>0</td>\n",
       "      <td>0</td>\n",
       "      <td>0</td>\n",
       "      <td>0</td>\n",
       "      <td>0</td>\n",
       "      <td>0</td>\n",
       "      <td>0</td>\n",
       "      <td>0</td>\n",
       "      <td>0</td>\n",
       "      <td>0</td>\n",
       "      <td>...</td>\n",
       "      <td>76</td>\n",
       "      <td>76</td>\n",
       "      <td>76</td>\n",
       "      <td>76</td>\n",
       "      <td>76</td>\n",
       "      <td>76</td>\n",
       "      <td>76</td>\n",
       "      <td>76</td>\n",
       "      <td>76</td>\n",
       "      <td>76</td>\n",
       "    </tr>\n",
       "    <tr>\n",
       "      <th>4</th>\n",
       "      <td>0</td>\n",
       "      <td>0</td>\n",
       "      <td>0</td>\n",
       "      <td>0</td>\n",
       "      <td>0</td>\n",
       "      <td>0</td>\n",
       "      <td>0</td>\n",
       "      <td>0</td>\n",
       "      <td>0</td>\n",
       "      <td>0</td>\n",
       "      <td>...</td>\n",
       "      <td>332</td>\n",
       "      <td>333</td>\n",
       "      <td>334</td>\n",
       "      <td>336</td>\n",
       "      <td>337</td>\n",
       "      <td>337</td>\n",
       "      <td>338</td>\n",
       "      <td>340</td>\n",
       "      <td>341</td>\n",
       "      <td>342</td>\n",
       "    </tr>\n",
       "  </tbody>\n",
       "</table>\n",
       "<p>5 rows × 311 columns</p>\n",
       "</div>"
      ],
      "text/plain": [
       "   1/22/20  1/23/20  1/24/20  1/25/20  1/26/20  1/27/20  1/28/20  1/29/20  \\\n",
       "0        0        0        0        0        0        0        0        0   \n",
       "1        0        0        0        0        0        0        0        0   \n",
       "2        0        0        0        0        0        0        0        0   \n",
       "3        0        0        0        0        0        0        0        0   \n",
       "4        0        0        0        0        0        0        0        0   \n",
       "\n",
       "   1/30/20  1/31/20  ...  11/18/20  11/19/20  11/20/20  11/21/20  11/22/20  \\\n",
       "0        0        0  ...      1645      1650      1661      1675      1687   \n",
       "1        0        0  ...       646       657       672       685       699   \n",
       "2        0        0  ...      2206      2224      2236      2255      2272   \n",
       "3        0        0  ...        76        76        76        76        76   \n",
       "4        0        0  ...       332       333       334       336       337   \n",
       "\n",
       "   11/23/20  11/24/20  11/25/20  11/26/20  11/27/20  \n",
       "0      1695      1712      1725      1737      1740  \n",
       "1       716       735       743       753       771  \n",
       "2      2294      2309      2329      2352      2372  \n",
       "3        76        76        76        76        76  \n",
       "4       337       338       340       341       342  \n",
       "\n",
       "[5 rows x 311 columns]"
      ]
     },
     "execution_count": 8,
     "metadata": {},
     "output_type": "execute_result"
    }
   ],
   "source": [
    "d=deaths_df.loc[:,'1/22/20':]\n",
    "d.head()"
   ]
  },
  {
   "cell_type": "markdown",
   "metadata": {},
   "source": [
    "Transpose the data frame"
   ]
  },
  {
   "cell_type": "code",
   "execution_count": 69,
   "metadata": {},
   "outputs": [
    {
     "data": {
      "text/html": [
       "<div>\n",
       "<style scoped>\n",
       "    .dataframe tbody tr th:only-of-type {\n",
       "        vertical-align: middle;\n",
       "    }\n",
       "\n",
       "    .dataframe tbody tr th {\n",
       "        vertical-align: top;\n",
       "    }\n",
       "\n",
       "    .dataframe thead th {\n",
       "        text-align: right;\n",
       "    }\n",
       "</style>\n",
       "<table border=\"1\" class=\"dataframe\">\n",
       "  <thead>\n",
       "    <tr style=\"text-align: right;\">\n",
       "      <th></th>\n",
       "      <th>0</th>\n",
       "      <th>1</th>\n",
       "      <th>2</th>\n",
       "      <th>3</th>\n",
       "      <th>4</th>\n",
       "      <th>5</th>\n",
       "      <th>6</th>\n",
       "      <th>7</th>\n",
       "      <th>8</th>\n",
       "      <th>9</th>\n",
       "      <th>...</th>\n",
       "      <th>261</th>\n",
       "      <th>262</th>\n",
       "      <th>263</th>\n",
       "      <th>264</th>\n",
       "      <th>265</th>\n",
       "      <th>266</th>\n",
       "      <th>267</th>\n",
       "      <th>268</th>\n",
       "      <th>269</th>\n",
       "      <th>270</th>\n",
       "    </tr>\n",
       "  </thead>\n",
       "  <tbody>\n",
       "    <tr>\n",
       "      <th>11/23/20</th>\n",
       "      <td>1695</td>\n",
       "      <td>716</td>\n",
       "      <td>2294</td>\n",
       "      <td>76</td>\n",
       "      <td>337</td>\n",
       "      <td>4</td>\n",
       "      <td>37122</td>\n",
       "      <td>1976</td>\n",
       "      <td>3</td>\n",
       "      <td>53</td>\n",
       "      <td>...</td>\n",
       "      <td>71</td>\n",
       "      <td>604</td>\n",
       "      <td>0</td>\n",
       "      <td>873</td>\n",
       "      <td>35</td>\n",
       "      <td>645</td>\n",
       "      <td>1</td>\n",
       "      <td>609</td>\n",
       "      <td>357</td>\n",
       "      <td>273</td>\n",
       "    </tr>\n",
       "    <tr>\n",
       "      <th>11/24/20</th>\n",
       "      <td>1712</td>\n",
       "      <td>735</td>\n",
       "      <td>2309</td>\n",
       "      <td>76</td>\n",
       "      <td>338</td>\n",
       "      <td>4</td>\n",
       "      <td>37432</td>\n",
       "      <td>2002</td>\n",
       "      <td>3</td>\n",
       "      <td>53</td>\n",
       "      <td>...</td>\n",
       "      <td>72</td>\n",
       "      <td>604</td>\n",
       "      <td>0</td>\n",
       "      <td>876</td>\n",
       "      <td>35</td>\n",
       "      <td>656</td>\n",
       "      <td>1</td>\n",
       "      <td>609</td>\n",
       "      <td>357</td>\n",
       "      <td>274</td>\n",
       "    </tr>\n",
       "    <tr>\n",
       "      <th>11/25/20</th>\n",
       "      <td>1725</td>\n",
       "      <td>743</td>\n",
       "      <td>2329</td>\n",
       "      <td>76</td>\n",
       "      <td>340</td>\n",
       "      <td>4</td>\n",
       "      <td>37714</td>\n",
       "      <td>2040</td>\n",
       "      <td>3</td>\n",
       "      <td>53</td>\n",
       "      <td>...</td>\n",
       "      <td>73</td>\n",
       "      <td>606</td>\n",
       "      <td>0</td>\n",
       "      <td>880</td>\n",
       "      <td>35</td>\n",
       "      <td>665</td>\n",
       "      <td>1</td>\n",
       "      <td>611</td>\n",
       "      <td>357</td>\n",
       "      <td>274</td>\n",
       "    </tr>\n",
       "    <tr>\n",
       "      <th>11/26/20</th>\n",
       "      <td>1737</td>\n",
       "      <td>753</td>\n",
       "      <td>2352</td>\n",
       "      <td>76</td>\n",
       "      <td>341</td>\n",
       "      <td>4</td>\n",
       "      <td>37941</td>\n",
       "      <td>2068</td>\n",
       "      <td>3</td>\n",
       "      <td>53</td>\n",
       "      <td>...</td>\n",
       "      <td>74</td>\n",
       "      <td>607</td>\n",
       "      <td>0</td>\n",
       "      <td>884</td>\n",
       "      <td>35</td>\n",
       "      <td>680</td>\n",
       "      <td>1</td>\n",
       "      <td>612</td>\n",
       "      <td>357</td>\n",
       "      <td>274</td>\n",
       "    </tr>\n",
       "    <tr>\n",
       "      <th>11/27/20</th>\n",
       "      <td>1740</td>\n",
       "      <td>771</td>\n",
       "      <td>2372</td>\n",
       "      <td>76</td>\n",
       "      <td>342</td>\n",
       "      <td>4</td>\n",
       "      <td>38216</td>\n",
       "      <td>2090</td>\n",
       "      <td>3</td>\n",
       "      <td>53</td>\n",
       "      <td>...</td>\n",
       "      <td>74</td>\n",
       "      <td>607</td>\n",
       "      <td>0</td>\n",
       "      <td>888</td>\n",
       "      <td>35</td>\n",
       "      <td>689</td>\n",
       "      <td>1</td>\n",
       "      <td>614</td>\n",
       "      <td>357</td>\n",
       "      <td>275</td>\n",
       "    </tr>\n",
       "  </tbody>\n",
       "</table>\n",
       "<p>5 rows × 271 columns</p>\n",
       "</div>"
      ],
      "text/plain": [
       "           0    1     2    3    4    5      6     7    8    9    ...  261  \\\n",
       "11/23/20  1695  716  2294   76  337    4  37122  1976    3   53  ...   71   \n",
       "11/24/20  1712  735  2309   76  338    4  37432  2002    3   53  ...   72   \n",
       "11/25/20  1725  743  2329   76  340    4  37714  2040    3   53  ...   73   \n",
       "11/26/20  1737  753  2352   76  341    4  37941  2068    3   53  ...   74   \n",
       "11/27/20  1740  771  2372   76  342    4  38216  2090    3   53  ...   74   \n",
       "\n",
       "          262  263  264  265  266  267  268  269  270  \n",
       "11/23/20  604    0  873   35  645    1  609  357  273  \n",
       "11/24/20  604    0  876   35  656    1  609  357  274  \n",
       "11/25/20  606    0  880   35  665    1  611  357  274  \n",
       "11/26/20  607    0  884   35  680    1  612  357  274  \n",
       "11/27/20  607    0  888   35  689    1  614  357  275  \n",
       "\n",
       "[5 rows x 271 columns]"
      ]
     },
     "execution_count": 69,
     "metadata": {},
     "output_type": "execute_result"
    }
   ],
   "source": [
    "d=d.transpose()\n",
    "#d.head()\n",
    "d.tail()"
   ]
  },
  {
   "cell_type": "markdown",
   "metadata": {},
   "source": [
    "Then sum row-wise"
   ]
  },
  {
   "cell_type": "code",
   "execution_count": 70,
   "metadata": {},
   "outputs": [
    {
     "data": {
      "text/plain": [
       "1/22/20          17\n",
       "1/23/20          18\n",
       "1/24/20          26\n",
       "1/25/20          42\n",
       "1/26/20          56\n",
       "             ...   \n",
       "11/23/20    1396467\n",
       "11/24/20    1409252\n",
       "11/25/20    1421308\n",
       "11/26/20    1432047\n",
       "11/27/20    1442664\n",
       "Length: 311, dtype: int64"
      ]
     },
     "execution_count": 70,
     "metadata": {},
     "output_type": "execute_result"
    }
   ],
   "source": [
    "d=d.sum(axis=1)\n",
    "d"
   ]
  },
  {
   "cell_type": "markdown",
   "metadata": {},
   "source": [
    "We only need the numeric values here, so we convert `d` to a list"
   ]
  },
  {
   "cell_type": "code",
   "execution_count": 71,
   "metadata": {},
   "outputs": [],
   "source": [
    "d=d.to_list()"
   ]
  },
  {
   "cell_type": "markdown",
   "metadata": {},
   "source": [
    "Create a new data frame with two columns, which will be our dataset:"
   ]
  },
  {
   "cell_type": "code",
   "execution_count": 72,
   "metadata": {},
   "outputs": [
    {
     "data": {
      "text/html": [
       "<div>\n",
       "<style scoped>\n",
       "    .dataframe tbody tr th:only-of-type {\n",
       "        vertical-align: middle;\n",
       "    }\n",
       "\n",
       "    .dataframe tbody tr th {\n",
       "        vertical-align: top;\n",
       "    }\n",
       "\n",
       "    .dataframe thead th {\n",
       "        text-align: right;\n",
       "    }\n",
       "</style>\n",
       "<table border=\"1\" class=\"dataframe\">\n",
       "  <thead>\n",
       "    <tr style=\"text-align: right;\">\n",
       "      <th></th>\n",
       "      <th>ds</th>\n",
       "      <th>y</th>\n",
       "    </tr>\n",
       "  </thead>\n",
       "  <tbody>\n",
       "  </tbody>\n",
       "</table>\n",
       "</div>"
      ],
      "text/plain": [
       "Empty DataFrame\n",
       "Columns: [ds, y]\n",
       "Index: []"
      ]
     },
     "execution_count": 72,
     "metadata": {},
     "output_type": "execute_result"
    }
   ],
   "source": [
    "dataset=pd.DataFrame(columns=['ds', 'y'])\n",
    "dataset"
   ]
  },
  {
   "cell_type": "markdown",
   "metadata": {},
   "source": [
    "Get the dates from the columns in `deaths_df` data frame, starting from the fifth column. They will be obtained in string format."
   ]
  },
  {
   "cell_type": "code",
   "execution_count": 73,
   "metadata": {},
   "outputs": [
    {
     "data": {
      "text/plain": [
       "['1/22/20',\n",
       " '1/23/20',\n",
       " '1/24/20',\n",
       " '1/25/20',\n",
       " '1/26/20',\n",
       " '1/27/20',\n",
       " '1/28/20',\n",
       " '1/29/20',\n",
       " '1/30/20',\n",
       " '1/31/20',\n",
       " '2/1/20',\n",
       " '2/2/20',\n",
       " '2/3/20',\n",
       " '2/4/20',\n",
       " '2/5/20',\n",
       " '2/6/20',\n",
       " '2/7/20',\n",
       " '2/8/20',\n",
       " '2/9/20',\n",
       " '2/10/20',\n",
       " '2/11/20',\n",
       " '2/12/20',\n",
       " '2/13/20',\n",
       " '2/14/20',\n",
       " '2/15/20',\n",
       " '2/16/20',\n",
       " '2/17/20',\n",
       " '2/18/20',\n",
       " '2/19/20',\n",
       " '2/20/20',\n",
       " '2/21/20',\n",
       " '2/22/20',\n",
       " '2/23/20',\n",
       " '2/24/20',\n",
       " '2/25/20',\n",
       " '2/26/20',\n",
       " '2/27/20',\n",
       " '2/28/20',\n",
       " '2/29/20',\n",
       " '3/1/20',\n",
       " '3/2/20',\n",
       " '3/3/20',\n",
       " '3/4/20',\n",
       " '3/5/20',\n",
       " '3/6/20',\n",
       " '3/7/20',\n",
       " '3/8/20',\n",
       " '3/9/20',\n",
       " '3/10/20',\n",
       " '3/11/20',\n",
       " '3/12/20',\n",
       " '3/13/20',\n",
       " '3/14/20',\n",
       " '3/15/20',\n",
       " '3/16/20',\n",
       " '3/17/20',\n",
       " '3/18/20',\n",
       " '3/19/20',\n",
       " '3/20/20',\n",
       " '3/21/20',\n",
       " '3/22/20',\n",
       " '3/23/20',\n",
       " '3/24/20',\n",
       " '3/25/20',\n",
       " '3/26/20',\n",
       " '3/27/20',\n",
       " '3/28/20',\n",
       " '3/29/20',\n",
       " '3/30/20',\n",
       " '3/31/20',\n",
       " '4/1/20',\n",
       " '4/2/20',\n",
       " '4/3/20',\n",
       " '4/4/20',\n",
       " '4/5/20',\n",
       " '4/6/20',\n",
       " '4/7/20',\n",
       " '4/8/20',\n",
       " '4/9/20',\n",
       " '4/10/20',\n",
       " '4/11/20',\n",
       " '4/12/20',\n",
       " '4/13/20',\n",
       " '4/14/20',\n",
       " '4/15/20',\n",
       " '4/16/20',\n",
       " '4/17/20',\n",
       " '4/18/20',\n",
       " '4/19/20',\n",
       " '4/20/20',\n",
       " '4/21/20',\n",
       " '4/22/20',\n",
       " '4/23/20',\n",
       " '4/24/20',\n",
       " '4/25/20',\n",
       " '4/26/20',\n",
       " '4/27/20',\n",
       " '4/28/20',\n",
       " '4/29/20',\n",
       " '4/30/20',\n",
       " '5/1/20',\n",
       " '5/2/20',\n",
       " '5/3/20',\n",
       " '5/4/20',\n",
       " '5/5/20',\n",
       " '5/6/20',\n",
       " '5/7/20',\n",
       " '5/8/20',\n",
       " '5/9/20',\n",
       " '5/10/20',\n",
       " '5/11/20',\n",
       " '5/12/20',\n",
       " '5/13/20',\n",
       " '5/14/20',\n",
       " '5/15/20',\n",
       " '5/16/20',\n",
       " '5/17/20',\n",
       " '5/18/20',\n",
       " '5/19/20',\n",
       " '5/20/20',\n",
       " '5/21/20',\n",
       " '5/22/20',\n",
       " '5/23/20',\n",
       " '5/24/20',\n",
       " '5/25/20',\n",
       " '5/26/20',\n",
       " '5/27/20',\n",
       " '5/28/20',\n",
       " '5/29/20',\n",
       " '5/30/20',\n",
       " '5/31/20',\n",
       " '6/1/20',\n",
       " '6/2/20',\n",
       " '6/3/20',\n",
       " '6/4/20',\n",
       " '6/5/20',\n",
       " '6/6/20',\n",
       " '6/7/20',\n",
       " '6/8/20',\n",
       " '6/9/20',\n",
       " '6/10/20',\n",
       " '6/11/20',\n",
       " '6/12/20',\n",
       " '6/13/20',\n",
       " '6/14/20',\n",
       " '6/15/20',\n",
       " '6/16/20',\n",
       " '6/17/20',\n",
       " '6/18/20',\n",
       " '6/19/20',\n",
       " '6/20/20',\n",
       " '6/21/20',\n",
       " '6/22/20',\n",
       " '6/23/20',\n",
       " '6/24/20',\n",
       " '6/25/20',\n",
       " '6/26/20',\n",
       " '6/27/20',\n",
       " '6/28/20',\n",
       " '6/29/20',\n",
       " '6/30/20',\n",
       " '7/1/20',\n",
       " '7/2/20',\n",
       " '7/3/20',\n",
       " '7/4/20',\n",
       " '7/5/20',\n",
       " '7/6/20',\n",
       " '7/7/20',\n",
       " '7/8/20',\n",
       " '7/9/20',\n",
       " '7/10/20',\n",
       " '7/11/20',\n",
       " '7/12/20',\n",
       " '7/13/20',\n",
       " '7/14/20',\n",
       " '7/15/20',\n",
       " '7/16/20',\n",
       " '7/17/20',\n",
       " '7/18/20',\n",
       " '7/19/20',\n",
       " '7/20/20',\n",
       " '7/21/20',\n",
       " '7/22/20',\n",
       " '7/23/20',\n",
       " '7/24/20',\n",
       " '7/25/20',\n",
       " '7/26/20',\n",
       " '7/27/20',\n",
       " '7/28/20',\n",
       " '7/29/20',\n",
       " '7/30/20',\n",
       " '7/31/20',\n",
       " '8/1/20',\n",
       " '8/2/20',\n",
       " '8/3/20',\n",
       " '8/4/20',\n",
       " '8/5/20',\n",
       " '8/6/20',\n",
       " '8/7/20',\n",
       " '8/8/20',\n",
       " '8/9/20',\n",
       " '8/10/20',\n",
       " '8/11/20',\n",
       " '8/12/20',\n",
       " '8/13/20',\n",
       " '8/14/20',\n",
       " '8/15/20',\n",
       " '8/16/20',\n",
       " '8/17/20',\n",
       " '8/18/20',\n",
       " '8/19/20',\n",
       " '8/20/20',\n",
       " '8/21/20',\n",
       " '8/22/20',\n",
       " '8/23/20',\n",
       " '8/24/20',\n",
       " '8/25/20',\n",
       " '8/26/20',\n",
       " '8/27/20',\n",
       " '8/28/20',\n",
       " '8/29/20',\n",
       " '8/30/20',\n",
       " '8/31/20',\n",
       " '9/1/20',\n",
       " '9/2/20',\n",
       " '9/3/20',\n",
       " '9/4/20',\n",
       " '9/5/20',\n",
       " '9/6/20',\n",
       " '9/7/20',\n",
       " '9/8/20',\n",
       " '9/9/20',\n",
       " '9/10/20',\n",
       " '9/11/20',\n",
       " '9/12/20',\n",
       " '9/13/20',\n",
       " '9/14/20',\n",
       " '9/15/20',\n",
       " '9/16/20',\n",
       " '9/17/20',\n",
       " '9/18/20',\n",
       " '9/19/20',\n",
       " '9/20/20',\n",
       " '9/21/20',\n",
       " '9/22/20',\n",
       " '9/23/20',\n",
       " '9/24/20',\n",
       " '9/25/20',\n",
       " '9/26/20',\n",
       " '9/27/20',\n",
       " '9/28/20',\n",
       " '9/29/20',\n",
       " '9/30/20',\n",
       " '10/1/20',\n",
       " '10/2/20',\n",
       " '10/3/20',\n",
       " '10/4/20',\n",
       " '10/5/20',\n",
       " '10/6/20',\n",
       " '10/7/20',\n",
       " '10/8/20',\n",
       " '10/9/20',\n",
       " '10/10/20',\n",
       " '10/11/20',\n",
       " '10/12/20',\n",
       " '10/13/20',\n",
       " '10/14/20',\n",
       " '10/15/20',\n",
       " '10/16/20',\n",
       " '10/17/20',\n",
       " '10/18/20',\n",
       " '10/19/20',\n",
       " '10/20/20',\n",
       " '10/21/20',\n",
       " '10/22/20',\n",
       " '10/23/20',\n",
       " '10/24/20',\n",
       " '10/25/20',\n",
       " '10/26/20',\n",
       " '10/27/20',\n",
       " '10/28/20',\n",
       " '10/29/20',\n",
       " '10/30/20',\n",
       " '10/31/20',\n",
       " '11/1/20',\n",
       " '11/2/20',\n",
       " '11/3/20',\n",
       " '11/4/20',\n",
       " '11/5/20',\n",
       " '11/6/20',\n",
       " '11/7/20',\n",
       " '11/8/20',\n",
       " '11/9/20',\n",
       " '11/10/20',\n",
       " '11/11/20',\n",
       " '11/12/20',\n",
       " '11/13/20',\n",
       " '11/14/20',\n",
       " '11/15/20',\n",
       " '11/16/20',\n",
       " '11/17/20',\n",
       " '11/18/20',\n",
       " '11/19/20',\n",
       " '11/20/20',\n",
       " '11/21/20',\n",
       " '11/22/20',\n",
       " '11/23/20',\n",
       " '11/24/20',\n",
       " '11/25/20',\n",
       " '11/26/20',\n",
       " '11/27/20']"
      ]
     },
     "execution_count": 73,
     "metadata": {},
     "output_type": "execute_result"
    }
   ],
   "source": [
    "dates=list(deaths_df.columns[4:])\n",
    "dates"
   ]
  },
  {
   "cell_type": "markdown",
   "metadata": {},
   "source": [
    "Convert the string dates into the datetime format, so that we can perform datetime operations on them"
   ]
  },
  {
   "cell_type": "code",
   "execution_count": 75,
   "metadata": {},
   "outputs": [],
   "source": [
    "dates=list(pd.to_datetime(dates))"
   ]
  },
  {
   "cell_type": "markdown",
   "metadata": {},
   "source": [
    "Now, assign the dates and deaths data to the columns in the new dataframe:"
   ]
  },
  {
   "cell_type": "code",
   "execution_count": 76,
   "metadata": {},
   "outputs": [
    {
     "data": {
      "text/html": [
       "<div>\n",
       "<style scoped>\n",
       "    .dataframe tbody tr th:only-of-type {\n",
       "        vertical-align: middle;\n",
       "    }\n",
       "\n",
       "    .dataframe tbody tr th {\n",
       "        vertical-align: top;\n",
       "    }\n",
       "\n",
       "    .dataframe thead th {\n",
       "        text-align: right;\n",
       "    }\n",
       "</style>\n",
       "<table border=\"1\" class=\"dataframe\">\n",
       "  <thead>\n",
       "    <tr style=\"text-align: right;\">\n",
       "      <th></th>\n",
       "      <th>ds</th>\n",
       "      <th>y</th>\n",
       "    </tr>\n",
       "  </thead>\n",
       "  <tbody>\n",
       "    <tr>\n",
       "      <th>0</th>\n",
       "      <td>2020-01-22</td>\n",
       "      <td>17</td>\n",
       "    </tr>\n",
       "    <tr>\n",
       "      <th>1</th>\n",
       "      <td>2020-01-23</td>\n",
       "      <td>18</td>\n",
       "    </tr>\n",
       "    <tr>\n",
       "      <th>2</th>\n",
       "      <td>2020-01-24</td>\n",
       "      <td>26</td>\n",
       "    </tr>\n",
       "    <tr>\n",
       "      <th>3</th>\n",
       "      <td>2020-01-25</td>\n",
       "      <td>42</td>\n",
       "    </tr>\n",
       "    <tr>\n",
       "      <th>4</th>\n",
       "      <td>2020-01-26</td>\n",
       "      <td>56</td>\n",
       "    </tr>\n",
       "    <tr>\n",
       "      <th>...</th>\n",
       "      <td>...</td>\n",
       "      <td>...</td>\n",
       "    </tr>\n",
       "    <tr>\n",
       "      <th>306</th>\n",
       "      <td>2020-11-23</td>\n",
       "      <td>1396467</td>\n",
       "    </tr>\n",
       "    <tr>\n",
       "      <th>307</th>\n",
       "      <td>2020-11-24</td>\n",
       "      <td>1409252</td>\n",
       "    </tr>\n",
       "    <tr>\n",
       "      <th>308</th>\n",
       "      <td>2020-11-25</td>\n",
       "      <td>1421308</td>\n",
       "    </tr>\n",
       "    <tr>\n",
       "      <th>309</th>\n",
       "      <td>2020-11-26</td>\n",
       "      <td>1432047</td>\n",
       "    </tr>\n",
       "    <tr>\n",
       "      <th>310</th>\n",
       "      <td>2020-11-27</td>\n",
       "      <td>1442664</td>\n",
       "    </tr>\n",
       "  </tbody>\n",
       "</table>\n",
       "<p>311 rows × 2 columns</p>\n",
       "</div>"
      ],
      "text/plain": [
       "            ds        y\n",
       "0   2020-01-22       17\n",
       "1   2020-01-23       18\n",
       "2   2020-01-24       26\n",
       "3   2020-01-25       42\n",
       "4   2020-01-26       56\n",
       "..         ...      ...\n",
       "306 2020-11-23  1396467\n",
       "307 2020-11-24  1409252\n",
       "308 2020-11-25  1421308\n",
       "309 2020-11-26  1432047\n",
       "310 2020-11-27  1442664\n",
       "\n",
       "[311 rows x 2 columns]"
      ]
     },
     "execution_count": 76,
     "metadata": {},
     "output_type": "execute_result"
    }
   ],
   "source": [
    "dataset['ds']=dates\n",
    "dataset['y']=d\n",
    "dataset"
   ]
  },
  {
   "cell_type": "markdown",
   "metadata": {},
   "source": [
    "We will need to have only 1 data column, y, with the index being ds"
   ]
  },
  {
   "cell_type": "code",
   "execution_count": 78,
   "metadata": {},
   "outputs": [
    {
     "ename": "KeyError",
     "evalue": "\"None of ['ds'] are in the columns\"",
     "output_type": "error",
     "traceback": [
      "\u001b[0;31m---------------------------------------------------------------------------\u001b[0m",
      "\u001b[0;31mKeyError\u001b[0m                                  Traceback (most recent call last)",
      "\u001b[0;32m<ipython-input-78-ef0254360c1a>\u001b[0m in \u001b[0;36m<module>\u001b[0;34m\u001b[0m\n\u001b[0;32m----> 1\u001b[0;31m \u001b[0mdataset\u001b[0m\u001b[0;34m=\u001b[0m\u001b[0mdataset\u001b[0m\u001b[0;34m.\u001b[0m\u001b[0mset_index\u001b[0m\u001b[0;34m(\u001b[0m\u001b[0;34m'ds'\u001b[0m\u001b[0;34m)\u001b[0m\u001b[0;34m\u001b[0m\u001b[0;34m\u001b[0m\u001b[0m\n\u001b[0m",
      "\u001b[0;32m~/myenv/lib/python3.9/site-packages/pandas/core/frame.py\u001b[0m in \u001b[0;36mset_index\u001b[0;34m(self, keys, drop, append, inplace, verify_integrity)\u001b[0m\n\u001b[1;32m   4553\u001b[0m \u001b[0;34m\u001b[0m\u001b[0m\n\u001b[1;32m   4554\u001b[0m         \u001b[0;32mif\u001b[0m \u001b[0mmissing\u001b[0m\u001b[0;34m:\u001b[0m\u001b[0;34m\u001b[0m\u001b[0;34m\u001b[0m\u001b[0m\n\u001b[0;32m-> 4555\u001b[0;31m             \u001b[0;32mraise\u001b[0m \u001b[0mKeyError\u001b[0m\u001b[0;34m(\u001b[0m\u001b[0;34mf\"None of {missing} are in the columns\"\u001b[0m\u001b[0;34m)\u001b[0m\u001b[0;34m\u001b[0m\u001b[0;34m\u001b[0m\u001b[0m\n\u001b[0m\u001b[1;32m   4556\u001b[0m \u001b[0;34m\u001b[0m\u001b[0m\n\u001b[1;32m   4557\u001b[0m         \u001b[0;32mif\u001b[0m \u001b[0minplace\u001b[0m\u001b[0;34m:\u001b[0m\u001b[0;34m\u001b[0m\u001b[0;34m\u001b[0m\u001b[0m\n",
      "\u001b[0;31mKeyError\u001b[0m: \"None of ['ds'] are in the columns\""
     ]
    }
   ],
   "source": [
    "dataset=dataset.set_index('ds')"
   ]
  },
  {
   "cell_type": "markdown",
   "metadata": {},
   "source": [
    "Let's plot the daily number of deaths\n"
   ]
  },
  {
   "cell_type": "code",
   "execution_count": 82,
   "metadata": {},
   "outputs": [
    {
     "data": {
      "image/png": "[encoded data removed]",
      "text/plain": [
       "<Figure size 720x720 with 1 Axes>"
      ]
     },
     "metadata": {
      "needs_background": "light"
     },
     "output_type": "display_data"
    }
   ],
   "source": [
    "plt.figure(figsize=(10,10))\n",
    "plt.plot(dataset)\n",
    "plt.savefig('Cummulative daily deaths', bbox_inches='tight', transparent=False)"
   ]
  },
  {
   "cell_type": "markdown",
   "metadata": {},
   "source": [
    "and let's see how the daily increase looks like. To do this, we will use the `diff` method from the Dataframe object."
   ]
  },
  {
   "cell_type": "code",
   "execution_count": 86,
   "metadata": {},
   "outputs": [
    {
     "data": {
      "image/png": "[encoded data removed]",
      "text/plain": [
       "<Figure size 720x720 with 1 Axes>"
      ]
     },
     "metadata": {
      "needs_background": "light"
     },
     "output_type": "display_data"
    }
   ],
   "source": [
    "plt.figure(figsize=(10,10))\n",
    "plt.plot(dataset.diff())\n",
    "plt.savefig('Daily deaths', bbox_inches='tight', transparent=False)"
   ]
  },
  {
   "cell_type": "code",
   "execution_count": 83,
   "metadata": {},
   "outputs": [
    {
     "data": {
      "image/png": "[encoded data removed]",
      "text/plain": [
       "<Figure size 720x720 with 1 Axes>"
      ]
     },
     "metadata": {
      "needs_background": "light"
     },
     "output_type": "display_data"
    }
   ],
   "source": [
    "plt.figure(figsize=(10,10))\n",
    "plt.plot(dataset.pct_change())\n",
    "plt.savefig('Daily deaths', bbox_inches='tight', transparent=False)"
   ]
  },
  {
   "cell_type": "markdown",
   "metadata": {},
   "source": [
    "In this project, we are going to analyze the daily reported deaths"
   ]
  },
  {
   "cell_type": "code",
   "execution_count": 89,
   "metadata": {},
   "outputs": [],
   "source": [
    "dataset=dataset.diff()"
   ]
  },
  {
   "cell_type": "markdown",
   "metadata": {},
   "source": [
    "We need to remove the first data point here, which will be a None value"
   ]
  },
  {
   "cell_type": "code",
   "execution_count": 90,
   "metadata": {},
   "outputs": [],
   "source": [
    "dataset=dataset.loc['2020-01-23':'2020-11-27']"
   ]
  },
  {
   "cell_type": "markdown",
   "metadata": {},
   "source": [
    "# Task 2: Forcasting using SARIMAX, or Seasonal AutoRegressive Integrated Moving Average with eXogenous regressors model"
   ]
  },
  {
   "cell_type": "markdown",
   "metadata": {},
   "source": [
    "SARIMAX is one of the time series models in the python statistics library statsmodels."
   ]
  },
  {
   "cell_type": "markdown",
   "metadata": {},
   "source": [
    "But before we apply the model, we will split our dataset into a training and test sets. We will do this by taking all dates prior to 31st of October as training set, on which the model will be optimized, and all dates from 31st October as the test set, on which we will test the accuracy of the predictions that the optimized model will make."
   ]
  },
  {
   "cell_type": "code",
   "execution_count": 16,
   "metadata": {},
   "outputs": [],
   "source": [
    "start_date='2020-11-15'\n",
    "\n",
    "train=dataset.loc[dataset.index < pd.to_datetime(start_date)]\n",
    "test=dataset.loc[dataset.index >= pd.to_datetime(start_date)]"
   ]
  },
  {
   "cell_type": "markdown",
   "metadata": {},
   "source": [
    "Now let's talk about SARIMAX. There are three hyperparameters that go into the order tuple: p, q and d. Here we've used p=2, q=1 and d=3."
   ]
  },
  {
   "cell_type": "code",
   "execution_count": 17,
   "metadata": {},
   "outputs": [],
   "source": [
    "model=SARIMAX(train, order=(2, 1, 3))"
   ]
  },
  {
   "cell_type": "markdown",
   "metadata": {},
   "source": [
    "Next, we call the fit method to optimize the model."
   ]
  },
  {
   "cell_type": "code",
   "execution_count": 18,
   "metadata": {},
   "outputs": [],
   "source": [
    "results=model.fit(disp=True)"
   ]
  },
  {
   "cell_type": "markdown",
   "metadata": {},
   "source": [
    "Now let's make predictions using the model, and compare those against the values in the test set."
   ]
  },
  {
   "cell_type": "code",
   "execution_count": 19,
   "metadata": {},
   "outputs": [
    {
     "data": {
      "image/png": "[encoded data removed]",
      "text/plain": [
       "<Figure size 720x360 with 1 Axes>"
      ]
     },
     "metadata": {
      "needs_background": "light"
     },
     "output_type": "display_data"
    }
   ],
   "source": [
    "sarimax_prediction=results.predict(\n",
    "    start=start_date, end='2020-11-27', dynamic=False)\n",
    "plt.figure(figsize=(10,5))\n",
    "l1,=plt.plot(dataset, label='Observation')\n",
    "l2,=plt.plot(sarimax_prediction, label='ARIMA')\n",
    "plt.legend(handles=[l1,l2])\n",
    "plt.savefig('SARIMAX prediction', bbox_inches='tight', transparent=False)"
   ]
  },
  {
   "cell_type": "markdown",
   "metadata": {},
   "source": [
    "Since that we are interested in comparing between the different time series analysis approaches, we are going to use one of the validation measures: mean absolute error."
   ]
  },
  {
   "cell_type": "code",
   "execution_count": 20,
   "metadata": {},
   "outputs": [
    {
     "name": "stdout",
     "output_type": "stream",
     "text": [
      "SARIMAX MAE =  1079.8345774005154\n"
     ]
    }
   ],
   "source": [
    "print('SARIMAX MAE = ', mean_absolute_error(sarimax_prediction, test))"
   ]
  },
  {
   "cell_type": "markdown",
   "metadata": {},
   "source": [
    "However, in a typical machine learning workflow, we should find the best values of p, q and r that will minimize the error. We can use the auto_arima function in the pmdarima module to do that. This will find the optimal parameter combintation and return the best model.\n"
   ]
  },
  {
   "cell_type": "code",
   "execution_count": 21,
   "metadata": {},
   "outputs": [
    {
     "name": "stdout",
     "output_type": "stream",
     "text": [
      "Performing stepwise search to minimize aic\n",
      " ARIMA(1,1,1)(0,0,0)[0] intercept   : AIC=4978.284, Time=0.27 sec\n",
      " ARIMA(0,1,0)(0,0,0)[0] intercept   : AIC=5037.783, Time=0.01 sec\n",
      " ARIMA(1,1,0)(0,0,0)[0] intercept   : AIC=5029.731, Time=0.03 sec\n",
      " ARIMA(0,1,1)(0,0,0)[0] intercept   : AIC=5005.211, Time=0.17 sec\n",
      " ARIMA(0,1,0)(0,0,0)[0]             : AIC=5035.976, Time=0.01 sec\n",
      " ARIMA(2,1,1)(0,0,0)[0] intercept   : AIC=4968.392, Time=0.41 sec\n",
      " ARIMA(2,1,0)(0,0,0)[0] intercept   : AIC=5022.074, Time=0.05 sec\n",
      " ARIMA(3,1,1)(0,0,0)[0] intercept   : AIC=4949.550, Time=0.48 sec\n",
      " ARIMA(3,1,0)(0,0,0)[0] intercept   : AIC=4998.422, Time=0.07 sec\n",
      " ARIMA(3,1,2)(0,0,0)[0] intercept   : AIC=4879.381, Time=0.65 sec\n",
      " ARIMA(2,1,2)(0,0,0)[0] intercept   : AIC=inf, Time=0.56 sec\n",
      " ARIMA(3,1,3)(0,0,0)[0] intercept   : AIC=4860.594, Time=0.74 sec\n",
      " ARIMA(2,1,3)(0,0,0)[0] intercept   : AIC=4870.093, Time=0.68 sec\n",
      " ARIMA(3,1,3)(0,0,0)[0]             : AIC=4863.145, Time=0.59 sec\n",
      "\n",
      "Best model:  ARIMA(3,1,3)(0,0,0)[0] intercept\n",
      "Total fit time: 4.754 seconds\n",
      "                               SARIMAX Results                                \n",
      "==============================================================================\n",
      "Dep. Variable:                      y   No. Observations:                  297\n",
      "Model:               SARIMAX(3, 1, 3)   Log Likelihood               -2422.297\n",
      "Date:                Tue, 01 Dec 2020   AIC                           4860.594\n",
      "Time:                        15:25:30   BIC                           4890.116\n",
      "Sample:                             0   HQIC                          4872.414\n",
      "                                - 297                                         \n",
      "Covariance Type:                  opg                                         \n",
      "==============================================================================\n",
      "                 coef    std err          z      P>|z|      [0.025      0.975]\n",
      "------------------------------------------------------------------------------\n",
      "intercept     21.6694     19.810      1.094      0.274     -17.158      60.497\n",
      "ar.L1          1.1087      0.107     10.389      0.000       0.899       1.318\n",
      "ar.L2         -0.8246      0.131     -6.295      0.000      -1.081      -0.568\n",
      "ar.L3         -0.1381      0.105     -1.320      0.187      -0.343       0.067\n",
      "ma.L1         -1.8293      0.094    -19.543      0.000      -2.013      -1.646\n",
      "ma.L2          1.6406      0.127     12.920      0.000       1.392       1.889\n",
      "ma.L3         -0.5408      0.088     -6.147      0.000      -0.713      -0.368\n",
      "sigma2      8.773e+05   5.65e+04     15.520      0.000    7.67e+05    9.88e+05\n",
      "===================================================================================\n",
      "Ljung-Box (Q):                      206.33   Jarque-Bera (JB):               429.47\n",
      "Prob(Q):                              0.00   Prob(JB):                         0.00\n",
      "Heteroskedasticity (H):               3.34   Skew:                             1.33\n",
      "Prob(H) (two-sided):                  0.00   Kurtosis:                         8.27\n",
      "===================================================================================\n",
      "\n",
      "Warnings:\n",
      "[1] Covariance matrix calculated using the outer product of gradients (complex-step).\n"
     ]
    }
   ],
   "source": [
    "model = pm.auto_arima(train, start_p=1, start_q=1,\n",
    "                      test='adf',       # use adftest to find optimal 'd'\n",
    "                      max_p=3, max_q=3,  # maximum p and q\n",
    "                      m=1,              # frequency of series\n",
    "                      d=None,           # let model determine 'd'\n",
    "                      seasonal=False,   # No Seasonality\n",
    "                      start_P=0,\n",
    "                      D=0,\n",
    "                      trace=True,\n",
    "                      error_action='ignore',\n",
    "                      suppress_warnings=True,\n",
    "                      stepwise=True)\n",
    "\n",
    "print(model.summary())"
   ]
  },
  {
   "cell_type": "markdown",
   "metadata": {},
   "source": [
    "Note that this gives us the best mode here: \"Best model:  SARIMAX(2,1,3)(0,0,0)[0]\""
   ]
  },
  {
   "cell_type": "markdown",
   "metadata": {},
   "source": [
    "# Task 3: Forcasting using Facebook's Prophet model"
   ]
  },
  {
   "cell_type": "markdown",
   "metadata": {},
   "source": [
    "This is the open source time series library released by Facebook. It is also widely used by Facebook in their own time series analysis tasks. Facebook prophet does not require that you specify or search for hyperparameters. The model can act as a black box that does all the required computations on its own. And it works with the same object-fit-predict API.\n",
    "\n",
    "Prophet expects the data frame to have 2 columns, unlike SARIMAX."
   ]
  },
  {
   "cell_type": "code",
   "execution_count": 22,
   "metadata": {},
   "outputs": [],
   "source": [
    "train['ds']=train.index.values"
   ]
  },
  {
   "cell_type": "markdown",
   "metadata": {},
   "source": [
    "Then we create a new Prophet object and call the `fit()` method"
   ]
  },
  {
   "cell_type": "code",
   "execution_count": 23,
   "metadata": {},
   "outputs": [
    {
     "name": "stderr",
     "output_type": "stream",
     "text": [
      "INFO:fbprophet:Disabling yearly seasonality. Run prophet with yearly_seasonality=True to override this.\n",
      "INFO:fbprophet:Disabling daily seasonality. Run prophet with daily_seasonality=True to override this.\n"
     ]
    },
    {
     "data": {
      "text/plain": [
       "<fbprophet.forecaster.Prophet at 0x7fe2d5c80460>"
      ]
     },
     "execution_count": 23,
     "metadata": {},
     "output_type": "execute_result"
    }
   ],
   "source": [
    "m=Prophet()\n",
    "m.fit(train)"
   ]
  },
  {
   "cell_type": "markdown",
   "metadata": {},
   "source": [
    "Now let's forecast:"
   ]
  },
  {
   "cell_type": "code",
   "execution_count": 24,
   "metadata": {},
   "outputs": [],
   "source": [
    "future=m.make_future_dataframe(periods=dataset.shape[0]-train.shape[0])\n",
    "prophet_prediction=m.predict(future)"
   ]
  },
  {
   "cell_type": "markdown",
   "metadata": {},
   "source": [
    "Now let us calculate the mean absolute error for our predictions."
   ]
  },
  {
   "cell_type": "code",
   "execution_count": 25,
   "metadata": {},
   "outputs": [
    {
     "name": "stdout",
     "output_type": "stream",
     "text": [
      "Prophet MAE= 3238.7739503259445\n"
     ]
    }
   ],
   "source": [
    "prophet_prediction= prophet_prediction.set_index('ds')\n",
    "prophet_future= prophet_prediction.yhat.loc[prophet_prediction.index>=start_date]\n",
    "print('Prophet MAE=', mean_absolute_error(prophet_future, test))"
   ]
  },
  {
   "cell_type": "markdown",
   "metadata": {},
   "source": [
    "Next, let's visualize the predictions."
   ]
  },
  {
   "cell_type": "code",
   "execution_count": 26,
   "metadata": {},
   "outputs": [
    {
     "data": {
      "image/png": "[encoded data removed]",
      "text/plain": [
       "<Figure size 720x360 with 1 Axes>"
      ]
     },
     "metadata": {
      "needs_background": "light"
     },
     "output_type": "display_data"
    }
   ],
   "source": [
    "plt.figure(figsize=(10,5))\n",
    "l1,=plt.plot(dataset, label='Observation')\n",
    "l2,=plt.plot(prophet_future, label='Prophet')\n",
    "plt.legend(handles=[l1,l2])\n",
    "plt.savefig('Prophet predictions',\n",
    "           bbox_inches='tight', transparent=False)"
   ]
  },
  {
   "cell_type": "markdown",
   "metadata": {},
   "source": [
    "# Task 4: Preparing the dataset for XGBOOST and NN"
   ]
  },
  {
   "cell_type": "markdown",
   "metadata": {},
   "source": [
    "Unlike the prophet and SAIMAX models, the two models we will train in Task 6, namely XGBOOST and NN, are supervised machine learning models that deal with independent data points, or examples. It assumes that each data point is totally independent from the rest of the data points in the dataset.\n",
    "\n",
    "Here is a method that extracts these features from a given dataframe object."
   ]
  },
  {
   "cell_type": "code",
   "execution_count": 27,
   "metadata": {},
   "outputs": [
    {
     "data": {
      "text/html": [
       "<div>\n",
       "<style scoped>\n",
       "    .dataframe tbody tr th:only-of-type {\n",
       "        vertical-align: middle;\n",
       "    }\n",
       "\n",
       "    .dataframe tbody tr th {\n",
       "        vertical-align: top;\n",
       "    }\n",
       "\n",
       "    .dataframe thead th {\n",
       "        text-align: right;\n",
       "    }\n",
       "</style>\n",
       "<table border=\"1\" class=\"dataframe\">\n",
       "  <thead>\n",
       "    <tr style=\"text-align: right;\">\n",
       "      <th></th>\n",
       "      <th>day</th>\n",
       "      <th>month</th>\n",
       "      <th>quarter</th>\n",
       "      <th>dayofweek</th>\n",
       "      <th>dayofyear</th>\n",
       "      <th>weekofyear</th>\n",
       "    </tr>\n",
       "  </thead>\n",
       "  <tbody>\n",
       "    <tr>\n",
       "      <th>0</th>\n",
       "      <td>23</td>\n",
       "      <td>1</td>\n",
       "      <td>1</td>\n",
       "      <td>3</td>\n",
       "      <td>23</td>\n",
       "      <td>4</td>\n",
       "    </tr>\n",
       "    <tr>\n",
       "      <th>1</th>\n",
       "      <td>24</td>\n",
       "      <td>1</td>\n",
       "      <td>1</td>\n",
       "      <td>4</td>\n",
       "      <td>24</td>\n",
       "      <td>4</td>\n",
       "    </tr>\n",
       "    <tr>\n",
       "      <th>2</th>\n",
       "      <td>25</td>\n",
       "      <td>1</td>\n",
       "      <td>1</td>\n",
       "      <td>5</td>\n",
       "      <td>25</td>\n",
       "      <td>4</td>\n",
       "    </tr>\n",
       "    <tr>\n",
       "      <th>3</th>\n",
       "      <td>26</td>\n",
       "      <td>1</td>\n",
       "      <td>1</td>\n",
       "      <td>6</td>\n",
       "      <td>26</td>\n",
       "      <td>4</td>\n",
       "    </tr>\n",
       "    <tr>\n",
       "      <th>4</th>\n",
       "      <td>27</td>\n",
       "      <td>1</td>\n",
       "      <td>1</td>\n",
       "      <td>0</td>\n",
       "      <td>27</td>\n",
       "      <td>5</td>\n",
       "    </tr>\n",
       "  </tbody>\n",
       "</table>\n",
       "</div>"
      ],
      "text/plain": [
       "   day  month  quarter  dayofweek  dayofyear  weekofyear\n",
       "0   23      1        1          3         23           4\n",
       "1   24      1        1          4         24           4\n",
       "2   25      1        1          5         25           4\n",
       "3   26      1        1          6         26           4\n",
       "4   27      1        1          0         27           5"
      ]
     },
     "execution_count": 27,
     "metadata": {},
     "output_type": "execute_result"
    }
   ],
   "source": [
    "def featurize(t):\n",
    "    X = pd.DataFrame()\n",
    "    \n",
    "    X['day'] = t.index.day\n",
    "    X['month'] = t.index.month\n",
    "    X['quarter'] = t.index.quarter\n",
    "    X['dayofweek'] = t.index.dayofweek\n",
    "    X['dayofyear'] = t.index.dayofyear\n",
    "    X['weekofyear'] = t.index.weekofyear\n",
    "    y = t.y\n",
    "    return X,y\n",
    "featurize(dataset)[0].head()"
   ]
  },
  {
   "cell_type": "markdown",
   "metadata": {},
   "source": [
    "# Task 5: Create training and test datasets by splitting the dataset, and perform data normalization."
   ]
  },
  {
   "cell_type": "markdown",
   "metadata": {},
   "source": [
    "In this task we are going to cover two topics in data preparation: splitting the dataset into training and test data, and normalizing the data.\n",
    "\n",
    "You might have already performed a splitting operation of a dataset in machine learning, where one takes a randomly selected portion of the dataset, say 20%, as a test set, while the remaining 80% is the training set. It is randomly selected because the whole dataset is randomly shufflled before the selection. Another popular approach is the k-fold cross validation.\n",
    "\n",
    "However, those two methods won't work with time series data. The reason is: when we train the model on the training set, the purpose is to predict the target values in the future, which corresponds to date values that are outside of the date values in the training set."
   ]
  },
  {
   "cell_type": "code",
   "execution_count": 28,
   "metadata": {},
   "outputs": [],
   "source": [
    "X_train, y_train = featurize(\n",
    "dataset.loc[dataset.index < pd.to_datetime(start_date)])\n",
    "X_test, y_test = featurize(\n",
    "dataset.loc[dataset.index >= pd.to_datetime(start_date)])"
   ]
  },
  {
   "cell_type": "markdown",
   "metadata": {},
   "source": [
    "Now let's discuss data normalization. We perform data normalization so as to make the range of values of the features, or the columns in the X_train table, as close as possible. For example, we have the features dayofweek and dayofyear. The range of values of dayofweek is from 1 to 7, whereas dayofyear is from 1 to 365. Having such large differences in the ranges of values will either slow down the training of the machine learning model or make it quite difficult. We solve this problem by applying normalization. There are several ways we can normalize the data with. Here I will choose the StandardScaler, which applies the following equation on each of the columns.\n",
    "\n",
    "z = (x - u) / s\n",
    "\n",
    "Here x is the column before scaling, u is thee mean and s is the standard deviation. So basically, we subtract the mean of each column from itself, then divide by the standard deviation of that column. To apply StandardScaler, we first fit the scaler object to the dataset:\n"
   ]
  },
  {
   "cell_type": "code",
   "execution_count": 29,
   "metadata": {},
   "outputs": [
    {
     "data": {
      "text/plain": [
       "StandardScaler()"
      ]
     },
     "execution_count": 29,
     "metadata": {},
     "output_type": "execute_result"
    }
   ],
   "source": [
    "scaler = StandardScaler()\n",
    "scaler.fit(X_train)"
   ]
  },
  {
   "cell_type": "markdown",
   "metadata": {},
   "source": [
    "Apply the scaling to both the training and test sets, as follows."
   ]
  },
  {
   "cell_type": "code",
   "execution_count": 30,
   "metadata": {},
   "outputs": [],
   "source": [
    "scaled_train = scaler.transform(X_train)\n",
    "scaled_test = scaler.transform(X_test)"
   ]
  },
  {
   "cell_type": "markdown",
   "metadata": {},
   "source": [
    "# Task 6: Train the XGBOOST and NN models"
   ]
  },
  {
   "cell_type": "markdown",
   "metadata": {},
   "source": [
    "First, create the XGBRegressor object which will represent the XGBOOST regression model."
   ]
  },
  {
   "cell_type": "code",
   "execution_count": 31,
   "metadata": {},
   "outputs": [],
   "source": [
    "XGBOOST_model = XGBRegressor(n_estimators=7) "
   ]
  },
  {
   "cell_type": "markdown",
   "metadata": {},
   "source": [
    "Next, train the XGBOOST regression model using the fit method, and perform prediction using the predict method."
   ]
  },
  {
   "cell_type": "code",
   "execution_count": 32,
   "metadata": {},
   "outputs": [
    {
     "name": "stdout",
     "output_type": "stream",
     "text": [
      "[0]\tvalidation_0-rmse:3658.09497\tvalidation_1-rmse:7979.36768\n",
      "[1]\tvalidation_0-rmse:2662.23633\tvalidation_1-rmse:6211.03320\n",
      "[2]\tvalidation_0-rmse:1951.07446\tvalidation_1-rmse:4987.65967\n",
      "[3]\tvalidation_0-rmse:1463.58118\tvalidation_1-rmse:4152.61523\n",
      "[4]\tvalidation_0-rmse:1121.57629\tvalidation_1-rmse:3484.43604\n",
      "[5]\tvalidation_0-rmse:894.58600\tvalidation_1-rmse:3001.29150\n",
      "[6]\tvalidation_0-rmse:744.87616\tvalidation_1-rmse:2559.03687\n"
     ]
    }
   ],
   "source": [
    "XGBOOST_model.fit(scaled_train, y_train,\n",
    "                 eval_set=[(scaled_train, y_train), (scaled_test, y_test)],\n",
    "                 verbose = True)\n",
    "XGBOOST_prediction = XGBOOST_model.predict(scaled_test)"
   ]
  },
  {
   "cell_type": "markdown",
   "metadata": {},
   "source": [
    "Let us calculate the mean absolute error for the training."
   ]
  },
  {
   "cell_type": "code",
   "execution_count": 33,
   "metadata": {},
   "outputs": [
    {
     "name": "stdout",
     "output_type": "stream",
     "text": [
      "XGBOOST MAE = 2322.4469275841348\n"
     ]
    }
   ],
   "source": [
    "print('XGBOOST MAE =', mean_absolute_error(XGBOOST_prediction, y_test))"
   ]
  },
  {
   "cell_type": "markdown",
   "metadata": {},
   "source": [
    "Creation and training of the feedforward neural network model."
   ]
  },
  {
   "cell_type": "code",
   "execution_count": 36,
   "metadata": {},
   "outputs": [
    {
     "name": "stdout",
     "output_type": "stream",
     "text": [
      "Train on 297 samples, validate on 13 samples\n",
      "Epoch 1/220\n",
      "297/297 [==============================] - 0s - loss: 4420.6732 - val_loss: 9974.5928\n",
      "Epoch 2/220\n",
      "297/297 [==============================] - 0s - loss: 4420.5546 - val_loss: 9974.4336\n",
      "Epoch 3/220\n",
      "297/297 [==============================] - 0s - loss: 4420.4385 - val_loss: 9974.3301\n",
      "Epoch 4/220\n",
      "297/297 [==============================] - 0s - loss: 4420.3177 - val_loss: 9974.3574\n",
      "Epoch 5/220\n",
      "297/297 [==============================] - 0s - loss: 4420.1831 - val_loss: 9974.2822\n",
      "Epoch 6/220\n",
      "297/297 [==============================] - 0s - loss: 4420.0388 - val_loss: 9974.0918\n",
      "Epoch 7/220\n",
      "297/297 [==============================] - 0s - loss: 4419.8689 - val_loss: 9973.8291\n",
      "Epoch 8/220\n",
      "297/297 [==============================] - 0s - loss: 4419.6786 - val_loss: 9973.5176\n",
      "Epoch 9/220\n",
      "297/297 [==============================] - 0s - loss: 4419.4567 - val_loss: 9973.3223\n",
      "Epoch 10/220\n",
      "297/297 [==============================] - 0s - loss: 4419.1992 - val_loss: 9972.8418\n",
      "Epoch 11/220\n",
      "297/297 [==============================] - 0s - loss: 4418.9036 - val_loss: 9972.1182\n",
      "Epoch 12/220\n",
      "297/297 [==============================] - 0s - loss: 4418.5551 - val_loss: 9971.4932\n",
      "Epoch 13/220\n",
      "297/297 [==============================] - 0s - loss: 4418.1492 - val_loss: 9970.5840\n",
      "Epoch 14/220\n",
      "297/297 [==============================] - 0s - loss: 4417.6781 - val_loss: 9969.5469\n",
      "Epoch 15/220\n",
      "297/297 [==============================] - 0s - loss: 4417.1259 - val_loss: 9968.5742\n",
      "Epoch 16/220\n",
      "297/297 [==============================] - 0s - loss: 4416.4836 - val_loss: 9967.4961\n",
      "Epoch 17/220\n",
      "297/297 [==============================] - 0s - loss: 4415.7411 - val_loss: 9966.7021\n",
      "Epoch 18/220\n",
      "297/297 [==============================] - 0s - loss: 4414.8958 - val_loss: 9964.9805\n",
      "Epoch 19/220\n",
      "297/297 [==============================] - 0s - loss: 4413.9193 - val_loss: 9963.8018\n",
      "Epoch 20/220\n",
      "297/297 [==============================] - 0s - loss: 4412.8024 - val_loss: 9962.0469\n",
      "Epoch 21/220\n",
      "297/297 [==============================] - 0s - loss: 4411.5536 - val_loss: 9958.8076\n",
      "Epoch 22/220\n",
      "297/297 [==============================] - 0s - loss: 4410.0841 - val_loss: 9956.3936\n",
      "Epoch 23/220\n",
      "297/297 [==============================] - 0s - loss: 4408.4925 - val_loss: 9953.7480\n",
      "Epoch 24/220\n",
      "297/297 [==============================] - 0s - loss: 4406.7066 - val_loss: 9949.6816\n",
      "Epoch 25/220\n",
      "297/297 [==============================] - 0s - loss: 4404.6570 - val_loss: 9945.0908\n",
      "Epoch 26/220\n",
      "297/297 [==============================] - 0s - loss: 4402.4090 - val_loss: 9939.6270\n",
      "Epoch 27/220\n",
      "297/297 [==============================] - 0s - loss: 4399.9236 - val_loss: 9934.8301\n",
      "Epoch 28/220\n",
      "297/297 [==============================] - 0s - loss: 4397.2091 - val_loss: 9928.2637\n",
      "Epoch 29/220\n",
      "297/297 [==============================] - 0s - loss: 4394.1853 - val_loss: 9922.1523\n",
      "Epoch 30/220\n",
      "297/297 [==============================] - 0s - loss: 4390.9089 - val_loss: 9914.1182\n",
      "Epoch 31/220\n",
      "297/297 [==============================] - 0s - loss: 4387.3534 - val_loss: 9906.8574\n",
      "Epoch 32/220\n",
      "297/297 [==============================] - 0s - loss: 4383.5105 - val_loss: 9898.6650\n",
      "Epoch 33/220\n",
      "297/297 [==============================] - 0s - loss: 4379.4108 - val_loss: 9889.5850\n",
      "Epoch 34/220\n",
      "297/297 [==============================] - 0s - loss: 4374.9622 - val_loss: 9878.2256\n",
      "Epoch 35/220\n",
      "297/297 [==============================] - 0s - loss: 4370.1540 - val_loss: 9868.5098\n",
      "Epoch 36/220\n",
      "297/297 [==============================] - 0s - loss: 4365.1480 - val_loss: 9856.2803\n",
      "Epoch 37/220\n",
      "297/297 [==============================] - 0s - loss: 4359.5593 - val_loss: 9843.7324\n",
      "Epoch 38/220\n",
      "297/297 [==============================] - 0s - loss: 4353.7548 - val_loss: 9830.5977\n",
      "Epoch 39/220\n",
      "297/297 [==============================] - 0s - loss: 4347.5476 - val_loss: 9815.4932\n",
      "Epoch 40/220\n",
      "297/297 [==============================] - 0s - loss: 4340.9714 - val_loss: 9800.7490\n",
      "Epoch 41/220\n",
      "297/297 [==============================] - 0s - loss: 4333.9913 - val_loss: 9784.2168\n",
      "Epoch 42/220\n",
      "297/297 [==============================] - 0s - loss: 4326.5966 - val_loss: 9767.7793\n",
      "Epoch 43/220\n",
      "297/297 [==============================] - 0s - loss: 4318.7478 - val_loss: 9751.7617\n",
      "Epoch 44/220\n",
      "297/297 [==============================] - 0s - loss: 4310.7370 - val_loss: 9729.2959\n",
      "Epoch 45/220\n",
      "297/297 [==============================] - 0s - loss: 4301.8040 - val_loss: 9709.6172\n",
      "Epoch 46/220\n",
      "297/297 [==============================] - 0s - loss: 4292.7203 - val_loss: 9687.0352\n",
      "Epoch 47/220\n",
      "297/297 [==============================] - 0s - loss: 4283.1234 - val_loss: 9665.0459\n",
      "Epoch 48/220\n",
      "297/297 [==============================] - 0s - loss: 4273.2291 - val_loss: 9644.8135\n",
      "Epoch 49/220\n",
      "297/297 [==============================] - 0s - loss: 4263.0597 - val_loss: 9623.4141\n",
      "Epoch 50/220\n",
      "297/297 [==============================] - 0s - loss: 4252.0290 - val_loss: 9600.8447\n",
      "Epoch 51/220\n",
      "297/297 [==============================] - 0s - loss: 4240.7233 - val_loss: 9575.3428\n",
      "Epoch 52/220\n",
      "297/297 [==============================] - 0s - loss: 4228.9624 - val_loss: 9548.0869\n",
      "Epoch 53/220\n",
      "297/297 [==============================] - 0s - loss: 4216.7510 - val_loss: 9515.0166\n",
      "Epoch 54/220\n",
      "297/297 [==============================] - 0s - loss: 4203.8551 - val_loss: 9484.3818\n",
      "Epoch 55/220\n",
      "297/297 [==============================] - 0s - loss: 4190.5354 - val_loss: 9454.5977\n",
      "Epoch 56/220\n",
      "297/297 [==============================] - 0s - loss: 4176.7879 - val_loss: 9432.6475\n",
      "Epoch 57/220\n",
      "297/297 [==============================] - 0s - loss: 4162.5746 - val_loss: 9405.4639\n",
      "Epoch 58/220\n",
      "297/297 [==============================] - 0s - loss: 4148.0304 - val_loss: 9373.3555\n",
      "Epoch 59/220\n",
      "297/297 [==============================] - 0s - loss: 4132.8573 - val_loss: 9333.0908\n",
      "Epoch 60/220\n",
      "297/297 [==============================] - 0s - loss: 4116.8993 - val_loss: 9298.5879\n",
      "Epoch 61/220\n",
      "297/297 [==============================] - 0s - loss: 4100.5044 - val_loss: 9263.5088\n",
      "Epoch 62/220\n",
      "297/297 [==============================] - 0s - loss: 4083.4930 - val_loss: 9220.6572\n",
      "Epoch 63/220\n",
      "297/297 [==============================] - 0s - loss: 4065.7934 - val_loss: 9183.8623\n",
      "Epoch 64/220\n",
      "297/297 [==============================] - 0s - loss: 4047.7842 - val_loss: 9147.7227\n",
      "Epoch 65/220\n",
      "297/297 [==============================] - 0s - loss: 4029.6260 - val_loss: 9100.62704031.54\n",
      "Epoch 66/220\n",
      "297/297 [==============================] - 0s - loss: 4010.3133 - val_loss: 9054.8135\n",
      "Epoch 67/220\n",
      "297/297 [==============================] - 0s - loss: 3990.6155 - val_loss: 9001.7129\n",
      "Epoch 68/220\n",
      "297/297 [==============================] - 0s - loss: 3969.7774 - val_loss: 8957.0596\n",
      "Epoch 69/220\n",
      "297/297 [==============================] - 0s - loss: 3949.1553 - val_loss: 8909.1621\n",
      "Epoch 70/220\n",
      "297/297 [==============================] - 0s - loss: 3927.8412 - val_loss: 8855.6113\n",
      "Epoch 71/220\n",
      "297/297 [==============================] - 0s - loss: 3905.4092 - val_loss: 8806.4336\n",
      "Epoch 72/220\n",
      "297/297 [==============================] - 0s - loss: 3882.5579 - val_loss: 8762.3711\n",
      "Epoch 73/220\n",
      "297/297 [==============================] - 0s - loss: 3859.5333 - val_loss: 8700.5479\n",
      "Epoch 74/220\n",
      "297/297 [==============================] - 0s - loss: 3835.3323 - val_loss: 8649.4697\n",
      "Epoch 75/220\n",
      "297/297 [==============================] - 0s - loss: 3811.2289 - val_loss: 8603.5117\n",
      "Epoch 76/220\n",
      "297/297 [==============================] - 0s - loss: 3786.6957 - val_loss: 8541.7812\n",
      "Epoch 77/220\n",
      "297/297 [==============================] - 0s - loss: 3760.9678 - val_loss: 8477.4551\n",
      "Epoch 78/220\n",
      "297/297 [==============================] - 0s - loss: 3734.6484 - val_loss: 8422.8379\n",
      "Epoch 79/220\n",
      "297/297 [==============================] - 0s - loss: 3708.0707 - val_loss: 8351.4941\n",
      "Epoch 80/220\n",
      "297/297 [==============================] - 0s - loss: 3679.9877 - val_loss: 8279.4990\n",
      "Epoch 81/220\n",
      "297/297 [==============================] - 0s - loss: 3651.4423 - val_loss: 8212.6162\n",
      "Epoch 82/220\n",
      "297/297 [==============================] - 0s - loss: 3622.1145 - val_loss: 8153.9497\n",
      "Epoch 83/220\n",
      "297/297 [==============================] - 0s - loss: 3592.5571 - val_loss: 8071.1909\n",
      "Epoch 84/220\n",
      "297/297 [==============================] - 0s - loss: 3561.6446 - val_loss: 7998.7803\n",
      "Epoch 85/220\n",
      "297/297 [==============================] - 0s - loss: 3530.6468 - val_loss: 7934.0620\n",
      "Epoch 86/220\n",
      "297/297 [==============================] - 0s - loss: 3500.3254 - val_loss: 7847.4121\n",
      "Epoch 87/220\n",
      "297/297 [==============================] - 0s - loss: 3466.8201 - val_loss: 7780.9321\n",
      "Epoch 88/220\n",
      "297/297 [==============================] - 0s - loss: 3434.0152 - val_loss: 7713.0498\n",
      "Epoch 89/220\n",
      "297/297 [==============================] - 0s - loss: 3400.5969 - val_loss: 7627.0601\n",
      "Epoch 90/220\n",
      "297/297 [==============================] - 0s - loss: 3366.7810 - val_loss: 7549.3799\n",
      "Epoch 91/220\n",
      "297/297 [==============================] - 0s - loss: 3332.1620 - val_loss: 7460.7549\n",
      "Epoch 92/220\n",
      "297/297 [==============================] - 0s - loss: 3296.6925 - val_loss: 7374.6323\n",
      "Epoch 93/220\n",
      "297/297 [==============================] - 0s - loss: 3260.0607 - val_loss: 7294.9185\n",
      "Epoch 94/220\n",
      "297/297 [==============================] - 0s - loss: 3223.5500 - val_loss: 7202.7681\n",
      "Epoch 95/220\n",
      "297/297 [==============================] - 0s - loss: 3184.6374 - val_loss: 7122.5391\n",
      "Epoch 96/220\n",
      "297/297 [==============================] - 0s - loss: 3145.7063 - val_loss: 7011.4844\n",
      "Epoch 97/220\n",
      "297/297 [==============================] - 0s - loss: 3106.5453 - val_loss: 6895.6982\n",
      "Epoch 98/220\n",
      "297/297 [==============================] - 0s - loss: 3065.5071 - val_loss: 6799.9062\n",
      "Epoch 99/220\n",
      "297/297 [==============================] - 0s - loss: 3023.6802 - val_loss: 6709.4014\n",
      "Epoch 100/220\n",
      "297/297 [==============================] - 0s - loss: 2982.0321 - val_loss: 6600.1143\n",
      "Epoch 101/220\n",
      "297/297 [==============================] - 0s - loss: 2937.6980 - val_loss: 6517.5835\n",
      "Epoch 102/220\n",
      "297/297 [==============================] - 0s - loss: 2895.1107 - val_loss: 6433.2153\n",
      "Epoch 103/220\n",
      "297/297 [==============================] - 0s - loss: 2851.6254 - val_loss: 6319.8628\n",
      "Epoch 104/220\n",
      "297/297 [==============================] - 0s - loss: 2807.9636 - val_loss: 6223.1899\n",
      "Epoch 105/220\n",
      "297/297 [==============================] - 0s - loss: 2764.4081 - val_loss: 6106.8198\n",
      "Epoch 106/220\n",
      "297/297 [==============================] - 0s - loss: 2718.9459 - val_loss: 5990.3809\n",
      "Epoch 107/220\n",
      "297/297 [==============================] - 0s - loss: 2674.4565 - val_loss: 5869.3896\n",
      "Epoch 108/220\n",
      "297/297 [==============================] - 0s - loss: 2627.5962 - val_loss: 5783.5972\n",
      "Epoch 109/220\n",
      "297/297 [==============================] - 0s - loss: 2581.6411 - val_loss: 5688.4614\n",
      "Epoch 110/220\n",
      "297/297 [==============================] - 0s - loss: 2535.1407 - val_loss: 5561.5972\n",
      "Epoch 111/220\n",
      "297/297 [==============================] - 0s - loss: 2489.2500 - val_loss: 5420.7554\n",
      "Epoch 112/220\n",
      "297/297 [==============================] - 0s - loss: 2441.6629 - val_loss: 5337.3047\n",
      "Epoch 113/220\n",
      "297/297 [==============================] - 0s - loss: 2397.7466 - val_loss: 5224.5908\n",
      "Epoch 114/220\n",
      "297/297 [==============================] - 0s - loss: 2353.4081 - val_loss: 5127.7188\n",
      "Epoch 115/220\n",
      "297/297 [==============================] - 0s - loss: 2308.7297 - val_loss: 5015.9790\n",
      "Epoch 116/220\n",
      "297/297 [==============================] - 0s - loss: 2263.1452 - val_loss: 4910.2432\n",
      "Epoch 117/220\n",
      "297/297 [==============================] - 0s - loss: 2218.7096 - val_loss: 4787.6743\n",
      "Epoch 118/220\n",
      "297/297 [==============================] - 0s - loss: 2175.0750 - val_loss: 4667.6050\n",
      "Epoch 119/220\n",
      "297/297 [==============================] - 0s - loss: 2130.8480 - val_loss: 4552.1436\n",
      "Epoch 120/220\n",
      "297/297 [==============================] - 0s - loss: 2087.6375 - val_loss: 4458.1982\n",
      "Epoch 121/220\n",
      "297/297 [==============================] - 0s - loss: 2046.6013 - val_loss: 4391.5693\n",
      "Epoch 122/220\n",
      "297/297 [==============================] - 0s - loss: 2006.2444 - val_loss: 4253.8428\n",
      "Epoch 123/220\n",
      "297/297 [==============================] - 0s - loss: 1964.6126 - val_loss: 4106.7236\n",
      "Epoch 124/220\n",
      "297/297 [==============================] - 0s - loss: 1921.7722 - val_loss: 4023.7734\n",
      "Epoch 125/220\n",
      "297/297 [==============================] - 0s - loss: 1882.7702 - val_loss: 3937.9873\n",
      "Epoch 126/220\n",
      "297/297 [==============================] - 0s - loss: 1846.1060 - val_loss: 3834.0103\n",
      "Epoch 127/220\n",
      "297/297 [==============================] - 0s - loss: 1810.4267 - val_loss: 3721.2908\n",
      "Epoch 128/220\n",
      "297/297 [==============================] - 0s - loss: 1777.2461 - val_loss: 3650.0093\n",
      "Epoch 129/220\n",
      "297/297 [==============================] - 0s - loss: 1745.7608 - val_loss: 3604.6514\n",
      "Epoch 130/220\n",
      "297/297 [==============================] - 0s - loss: 1716.0372 - val_loss: 3522.2048\n",
      "Epoch 131/220\n",
      "297/297 [==============================] - 0s - loss: 1688.0691 - val_loss: 3457.6770\n",
      "Epoch 132/220\n",
      "297/297 [==============================] - 0s - loss: 1660.6816 - val_loss: 3406.9597\n",
      "Epoch 133/220\n",
      "297/297 [==============================] - 0s - loss: 1636.5589 - val_loss: 3366.7212\n",
      "Epoch 134/220\n",
      "297/297 [==============================] - 0s - loss: 1610.6512 - val_loss: 3296.2952\n",
      "Epoch 135/220\n",
      "297/297 [==============================] - 0s - loss: 1587.5326 - val_loss: 3228.2305\n",
      "Epoch 136/220\n",
      "297/297 [==============================] - 0s - loss: 1565.6673 - val_loss: 3175.4536\n",
      "Epoch 137/220\n",
      "297/297 [==============================] - 0s - loss: 1544.7702 - val_loss: 3120.7800\n",
      "Epoch 138/220\n",
      "297/297 [==============================] - 0s - loss: 1527.9728 - val_loss: 3078.6545\n",
      "Epoch 139/220\n",
      "297/297 [==============================] - 0s - loss: 1510.9886 - val_loss: 3017.0366\n",
      "Epoch 140/220\n",
      "297/297 [==============================] - 0s - loss: 1495.5104 - val_loss: 2948.6167\n",
      "Epoch 141/220\n",
      "297/297 [==============================] - 0s - loss: 1482.9696 - val_loss: 2877.7212\n",
      "Epoch 142/220\n",
      "297/297 [==============================] - 0s - loss: 1471.2573 - val_loss: 2834.5239\n",
      "Epoch 143/220\n",
      "297/297 [==============================] - 0s - loss: 1461.8544 - val_loss: 2813.0232\n",
      "Epoch 144/220\n",
      "297/297 [==============================] - 0s - loss: 1452.4997 - val_loss: 2793.7668\n",
      "Epoch 145/220\n",
      "297/297 [==============================] - 0s - loss: 1445.5240 - val_loss: 2769.8115\n",
      "Epoch 146/220\n",
      "297/297 [==============================] - 0s - loss: 1438.0104 - val_loss: 2747.9404\n",
      "Epoch 147/220\n",
      "297/297 [==============================] - 0s - loss: 1431.5092 - val_loss: 2709.4536\n",
      "Epoch 148/220\n",
      "297/297 [==============================] - 0s - loss: 1424.6464 - val_loss: 2668.1255\n",
      "Epoch 149/220\n",
      "297/297 [==============================] - 0s - loss: 1420.1097 - val_loss: 2634.4983\n",
      "Epoch 150/220\n",
      "297/297 [==============================] - 0s - loss: 1415.1583 - val_loss: 2610.2561\n",
      "Epoch 151/220\n",
      "297/297 [==============================] - 0s - loss: 1410.8734 - val_loss: 2611.5312\n",
      "Epoch 152/220\n",
      "297/297 [==============================] - 0s - loss: 1406.3592 - val_loss: 2603.6704\n",
      "Epoch 153/220\n",
      "297/297 [==============================] - 0s - loss: 1403.3178 - val_loss: 2581.4565\n",
      "Epoch 154/220\n",
      "297/297 [==============================] - 0s - loss: 1400.1391 - val_loss: 2555.9622\n",
      "Epoch 155/220\n",
      "297/297 [==============================] - 0s - loss: 1397.9853 - val_loss: 2561.4465\n",
      "Epoch 156/220\n",
      "297/297 [==============================] - 0s - loss: 1396.3099 - val_loss: 2561.3845\n",
      "Epoch 157/220\n",
      "297/297 [==============================] - 0s - loss: 1394.8298 - val_loss: 2531.1580\n",
      "Epoch 158/220\n",
      "297/297 [==============================] - 0s - loss: 1392.3857 - val_loss: 2520.1116\n",
      "Epoch 159/220\n",
      "297/297 [==============================] - 0s - loss: 1390.4551 - val_loss: 2512.6814\n",
      "Epoch 160/220\n",
      "297/297 [==============================] - 0s - loss: 1389.0430 - val_loss: 2505.7388\n",
      "Epoch 161/220\n",
      "297/297 [==============================] - 0s - loss: 1387.6332 - val_loss: 2504.9604\n",
      "Epoch 162/220\n",
      "297/297 [==============================] - 0s - loss: 1385.6058 - val_loss: 2477.0576\n",
      "Epoch 163/220\n",
      "297/297 [==============================] - 0s - loss: 1383.8178 - val_loss: 2464.4226\n",
      "Epoch 164/220\n",
      "297/297 [==============================] - 0s - loss: 1382.3416 - val_loss: 2432.4329\n",
      "Epoch 165/220\n"
     ]
    },
    {
     "name": "stdout",
     "output_type": "stream",
     "text": [
      "297/297 [==============================] - 0s - loss: 1380.3783 - val_loss: 2421.4463\n",
      "Epoch 166/220\n",
      "297/297 [==============================] - 0s - loss: 1378.8598 - val_loss: 2425.2776\n",
      "Epoch 167/220\n",
      "297/297 [==============================] - 0s - loss: 1377.3844 - val_loss: 2415.1509\n",
      "Epoch 168/220\n",
      "297/297 [==============================] - 0s - loss: 1376.3286 - val_loss: 2406.8792\n",
      "Epoch 169/220\n",
      "297/297 [==============================] - 0s - loss: 1375.6132 - val_loss: 2397.6531\n",
      "Epoch 170/220\n",
      "297/297 [==============================] - 0s - loss: 1374.3857 - val_loss: 2397.4541\n",
      "Epoch 171/220\n",
      "297/297 [==============================] - 0s - loss: 1373.6758 - val_loss: 2396.0171\n",
      "Epoch 172/220\n",
      "297/297 [==============================] - 0s - loss: 1373.2305 - val_loss: 2395.9548\n",
      "Epoch 173/220\n",
      "297/297 [==============================] - 0s - loss: 1372.6066 - val_loss: 2380.0488\n",
      "Epoch 174/220\n",
      "297/297 [==============================] - 0s - loss: 1371.7590 - val_loss: 2367.9050\n",
      "Epoch 175/220\n",
      "297/297 [==============================] - 0s - loss: 1371.6013 - val_loss: 2354.4153\n",
      "Epoch 176/220\n",
      "297/297 [==============================] - 0s - loss: 1371.2680 - val_loss: 2357.5613\n",
      "Epoch 177/220\n",
      "297/297 [==============================] - 0s - loss: 1370.4376 - val_loss: 2361.4121\n",
      "Epoch 178/220\n",
      "297/297 [==============================] - 0s - loss: 1370.0460 - val_loss: 2364.2305\n",
      "Epoch 179/220\n",
      "297/297 [==============================] - 0s - loss: 1369.7723 - val_loss: 2360.4734\n",
      "Epoch 180/220\n",
      "297/297 [==============================] - 0s - loss: 1369.7683 - val_loss: 2352.8723\n",
      "Epoch 181/220\n",
      "297/297 [==============================] - 0s - loss: 1369.6358 - val_loss: 2364.0417\n",
      "Epoch 182/220\n",
      "297/297 [==============================] - 0s - loss: 1368.6692 - val_loss: 2358.0869\n",
      "Epoch 183/220\n",
      "297/297 [==============================] - 0s - loss: 1368.3369 - val_loss: 2348.9216\n",
      "Epoch 184/220\n",
      "297/297 [==============================] - 0s - loss: 1368.2007 - val_loss: 2351.6599\n",
      "Epoch 185/220\n",
      "297/297 [==============================] - 0s - loss: 1367.6612 - val_loss: 2351.9370\n",
      "Epoch 186/220\n",
      "297/297 [==============================] - 0s - loss: 1367.3169 - val_loss: 2354.2158\n",
      "Epoch 187/220\n",
      "297/297 [==============================] - 0s - loss: 1367.0589 - val_loss: 2370.9431\n",
      "Epoch 188/220\n",
      "297/297 [==============================] - 0s - loss: 1366.7460 - val_loss: 2370.9431\n",
      "Epoch 189/220\n",
      "297/297 [==============================] - 0s - loss: 1366.8865 - val_loss: 2375.4587\n",
      "Epoch 190/220\n",
      "297/297 [==============================] - 0s - loss: 1366.4899 - val_loss: 2382.7712\n",
      "Epoch 191/220\n",
      "297/297 [==============================] - 0s - loss: 1366.6303 - val_loss: 2383.3818\n",
      "Epoch 192/220\n",
      "297/297 [==============================] - 0s - loss: 1365.9053 - val_loss: 2379.5664\n",
      "Epoch 193/220\n",
      "297/297 [==============================] - 0s - loss: 1366.1425 - val_loss: 2375.0090\n",
      "Epoch 194/220\n",
      "297/297 [==============================] - 0s - loss: 1365.6190 - val_loss: 2377.5962\n",
      "Epoch 195/220\n",
      "297/297 [==============================] - 0s - loss: 1365.2781 - val_loss: 2386.7500\n",
      "Epoch 196/220\n",
      "297/297 [==============================] - 0s - loss: 1365.1720 - val_loss: 2381.8621\n",
      "Epoch 197/220\n",
      "297/297 [==============================] - 0s - loss: 1365.3061 - val_loss: 2374.7554\n",
      "Epoch 198/220\n",
      "297/297 [==============================] - 0s - loss: 1364.9983 - val_loss: 2358.0667\n",
      "Epoch 199/220\n",
      "297/297 [==============================] - 0s - loss: 1364.7433 - val_loss: 2358.7161\n",
      "Epoch 200/220\n",
      "297/297 [==============================] - 0s - loss: 1364.6846 - val_loss: 2351.4080\n",
      "Epoch 201/220\n",
      "297/297 [==============================] - 0s - loss: 1364.1885 - val_loss: 2352.6338\n",
      "Epoch 202/220\n",
      "297/297 [==============================] - 0s - loss: 1363.9807 - val_loss: 2359.2698\n",
      "Epoch 203/220\n",
      "297/297 [==============================] - 0s - loss: 1363.7672 - val_loss: 2361.5308\n",
      "Epoch 204/220\n",
      "297/297 [==============================] - 0s - loss: 1363.8141 - val_loss: 2369.6558\n",
      "Epoch 205/220\n",
      "297/297 [==============================] - 0s - loss: 1363.0909 - val_loss: 2354.8047\n",
      "Epoch 206/220\n",
      "297/297 [==============================] - 0s - loss: 1363.1605 - val_loss: 2335.3208\n",
      "Epoch 207/220\n",
      "297/297 [==============================] - 0s - loss: 1363.6047 - val_loss: 2326.8362\n",
      "Epoch 208/220\n",
      "297/297 [==============================] - 0s - loss: 1363.1530 - val_loss: 2337.7717\n",
      "Epoch 209/220\n",
      "297/297 [==============================] - 0s - loss: 1363.4506 - val_loss: 2354.5559\n",
      "Epoch 210/220\n",
      "297/297 [==============================] - 0s - loss: 1362.0317 - val_loss: 2350.6890\n",
      "Epoch 211/220\n",
      "297/297 [==============================] - 0s - loss: 1361.8986 - val_loss: 2345.2249\n",
      "Epoch 212/220\n",
      "297/297 [==============================] - 0s - loss: 1361.6962 - val_loss: 2354.6370\n",
      "Epoch 213/220\n",
      "297/297 [==============================] - 0s - loss: 1361.5009 - val_loss: 2365.5361\n",
      "Epoch 214/220\n",
      "297/297 [==============================] - 0s - loss: 1361.4023 - val_loss: 2370.7922\n",
      "Epoch 215/220\n",
      "297/297 [==============================] - 0s - loss: 1361.2181 - val_loss: 2379.3525\n",
      "Epoch 216/220\n",
      "297/297 [==============================] - 0s - loss: 1361.1161 - val_loss: 2375.6233\n",
      "Epoch 217/220\n",
      "297/297 [==============================] - 0s - loss: 1361.4670 - val_loss: 2388.0535\n",
      "Epoch 218/220\n",
      "297/297 [==============================] - 0s - loss: 1360.7567 - val_loss: 2378.6294\n",
      "Epoch 219/220\n",
      "297/297 [==============================] - 0s - loss: 1360.4476 - val_loss: 2361.3506\n",
      "Epoch 220/220\n",
      "297/297 [==============================] - 0s - loss: 1360.2885 - val_loss: 2359.4619\n"
     ]
    }
   ],
   "source": [
    "NN_model = Sequential()\n",
    "NN_model.add(Dense(20, input_shape=(scaled_train.shape[1],)))\n",
    "NN_model.add(Dense(10))\n",
    "NN_model.add(Dense(1))\n",
    "NN_model.compile(loss = 'mean_absolute_error', optimizer=Adam(lr=0.001))\n",
    "NN_model.fit(scaled_train, y_train, validation_data = (\n",
    "    scaled_test, y_test), nb_epoch = 220, verbose = 1)\n",
    "NN_prediction = NN_model.predict(scaled_test) "
   ]
  },
  {
   "cell_type": "markdown",
   "metadata": {},
   "source": [
    "Let's compare the MAE values."
   ]
  },
  {
   "cell_type": "code",
   "execution_count": 37,
   "metadata": {},
   "outputs": [
    {
     "name": "stdout",
     "output_type": "stream",
     "text": [
      "XGBOOST MAE =  2322.4469275841348\n",
      "Prophet MAE =  3238.7739503259445\n",
      "SARIMAX MAE =  1079.8345774005154\n",
      "NN MAE =  2359.4618013822114\n"
     ]
    }
   ],
   "source": [
    "print ('XGBOOST MAE = ', mean_absolute_error(XGBOOST_prediction, y_test))\n",
    "print ('Prophet MAE = ', mean_absolute_error(prophet_future, test))\n",
    "print ('SARIMAX MAE = ', mean_absolute_error(sarimax_prediction, test))\n",
    "print ('NN MAE = ', mean_absolute_error(NN_prediction, test))"
   ]
  },
  {
   "cell_type": "markdown",
   "metadata": {},
   "source": [
    "Finally let us visualize the predictions of all 4 models. Note the autofmt_xdate method in matplotlib, it knows how to appropriately rotate the date labels on the x-axis."
   ]
  },
  {
   "cell_type": "code",
   "execution_count": 38,
   "metadata": {},
   "outputs": [
    {
     "data": {
      "text/plain": [
       "<Figure size 1440x1440 with 0 Axes>"
      ]
     },
     "metadata": {},
     "output_type": "display_data"
    },
    {
     "data": {
      "image/png": "[encoded data removed]",
      "text/plain": [
       "<Figure size 432x288 with 4 Axes>"
      ]
     },
     "metadata": {
      "needs_background": "light"
     },
     "output_type": "display_data"
    }
   ],
   "source": [
    "\n",
    "XGBOOST_df = pd.DataFrame({'y': XGBOOST_prediction.tolist()})\n",
    "XGBOOST_df.index = y_test.index\n",
    "\n",
    "NN_df = pd.DataFrame(NN_prediction)\n",
    "NN_df.index = y_test.index\n",
    "plt.figure(figsize=(20, 20))\n",
    "fig, axs = plt.subplots(2, 2)\n",
    "fig.suptitle('Compare SARIMAX, prophet, XGBOOST and NN')\n",
    "axs[0, 0].plot(dataset.tail(50))\n",
    "axs[0, 0].plot(sarimax_prediction.tail(50))\n",
    "axs[0, 0].set_title(\"SARIMAX\")\n",
    "axs[0, 1].plot(dataset.tail(50))\n",
    "axs[0, 1].plot(prophet_future.tail(50))\n",
    "axs[0, 1].set_title(\"Prophet\")\n",
    "axs[1, 0].plot(dataset.tail(50))\n",
    "axs[1, 0].plot(XGBOOST_df.tail(50))\n",
    "axs[1, 0].set_title(\"XGBOOST\")\n",
    "axs[1, 1].plot(dataset.tail(50))\n",
    "axs[1, 1].plot(NN_df.tail(50))\n",
    "axs[1, 1].set_title(\"NN\")\n",
    "\n",
    "for ax in fig.get_axes():\n",
    "    ax.label_outer()\n",
    "fig.autofmt_xdate()\n",
    "\n",
    "plt.savefig('Comparison',\n",
    "            bbox_inches='tight', transparent=False)"
   ]
  },
  {
   "cell_type": "code",
   "execution_count": null,
   "metadata": {},
   "outputs": [],
   "source": []
  }
 ],
 "metadata": {
  "kernelspec": {
   "display_name": "Python 3",
   "language": "python",
   "name": "python3"
  },
  "language_info": {
   "codemirror_mode": {
    "name": "ipython",
    "version": 3
   },
   "file_extension": ".py",
   "mimetype": "text/x-python",
   "name": "python",
   "nbconvert_exporter": "python",
   "pygments_lexer": "ipython3",
   "version": "3.9.0"
  }
 },
 "nbformat": 4,
 "nbformat_minor": 4
}
